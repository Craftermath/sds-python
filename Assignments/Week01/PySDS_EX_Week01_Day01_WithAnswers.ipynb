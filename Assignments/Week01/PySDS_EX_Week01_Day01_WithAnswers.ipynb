{
 "cells": [
  {
   "cell_type": "markdown",
   "metadata": {},
   "source": [
    "**PySDS Week 01 Day 01 - Coding Practice**"
   ]
  },
  {
   "cell_type": "markdown",
   "metadata": {},
   "source": [
    "# Assignment 1. A few quick exercises and a sustained data cleaning example\n",
    " \n",
    "For this assignment you will be expected to debug the following statements and answer a few questions. These exercises are grouped by topic. You will then be expected to submit the assignment by \n",
    "\n",
    "~~~\n",
    "10am October 10th, 2018\n",
    "~~~\n",
    "\n",
    "That is to say, before tomorrow's class. The assignments will then be randomly shuffled to different members of the class. At 2pm, at the beginning of the tutorial, you will be able to view and comment on someone else's assignment. \n",
    "\n",
    "Peer grading is new at the OII, but it has been shown to be an effective approach to both learning about other people's code as well as keeping people engaged. Because it is peer graded, we will not expect you to give a specific mark. You will instead be asked: \n",
    "\n",
    "1. Does the code run as expected: Y / N \n",
    "2. If No, please note the lines. \n",
    "3. Do you think the code makes sense\n",
    "4. Does anything else stand out\n",
    "\n",
    "We will be doing this through Canvas. This is uncharted territory, but I think after a couple days it will be smooth sailing. \n",
    "\n",
    "Please be sure to name the file appropriately. "
   ]
  },
  {
   "cell_type": "markdown",
   "metadata": {},
   "source": [
    "## Part 1. Debugging Strings"
   ]
  },
  {
   "cell_type": "code",
   "execution_count": 71,
   "metadata": {},
   "outputs": [
    {
     "ename": "SyntaxError",
     "evalue": "invalid syntax (<ipython-input-71-abf37ffd609b>, line 9)",
     "output_type": "error",
     "traceback": [
      "\u001b[1;36m  File \u001b[1;32m\"<ipython-input-71-abf37ffd609b>\"\u001b[1;36m, line \u001b[1;32m9\u001b[0m\n\u001b[1;33m    print(\"Greetings Fellow \"Humans\"!!!\",'Isn't it time for 'data science'?')\u001b[0m\n\u001b[1;37m                                  ^\u001b[0m\n\u001b[1;31mSyntaxError\u001b[0m\u001b[1;31m:\u001b[0m invalid syntax\n"
     ]
    }
   ],
   "source": [
    "# 1.1.1.  Printing a string 1.: \n",
    "\n",
    "print(\"The following statements should be identical. Do not edit the one in triple quotes.\")\n",
    "\n",
    "print('''Greetings Fellow \"Humans\"!!!\n",
    "Isn't it time for 'data science'?''')\n",
    "\n",
    "# Answer\n",
    "print(\"Greetings Fellow \"Humans\"!!!\",'Isn't it time for 'data science'?')\n",
    "\n",
    "      \n",
    "      \n",
    "# Reviewer comments below here\n",
    "\n"
   ]
  },
  {
   "cell_type": "code",
   "execution_count": 43,
   "metadata": {},
   "outputs": [
    {
     "name": "stdout",
     "output_type": "stream",
     "text": [
      "The following statements should be identical. Do not edit the one in triple quotes.\n",
      "It is okay to tab here\n",
      "\n",
      "A program without \n",
      "        a poem \n",
      "                is like a fish \n",
      "                                without a bicycle.\n",
      "A program without a poem is like a fish without a bicycle.\n"
     ]
    }
   ],
   "source": [
    "# 1.1.2 Using whitespace characters.\n",
    "\n",
    "print(\"The following statements should be identical. Do not edit the one in triple quotes.\")\n",
    "print(\"It is okay to use spaces or tabs. It is not okay to use triple quotes.\")\n",
    "print()\n",
    "print('''A program without \n",
    "        a poem \n",
    "                is like a fish \n",
    "                                without a bicycle.''')\n",
    "\n",
    "# Answer:\n",
    "print(\"A program without a poem is like a fish without a bicycle.\")\n",
    "\n",
    "\n",
    "# Reviewer comments below here\n",
    "\n",
    "\n"
   ]
  },
  {
   "cell_type": "code",
   "execution_count": 16,
   "metadata": {},
   "outputs": [
    {
     "name": "stdout",
     "output_type": "stream",
     "text": [
      "A program without \n",
      "\ta poem \n",
      "\t\tis like a fish \n",
      "\t\t\t\twithout a bicycle.\n"
     ]
    }
   ],
   "source": [
    "Answer: print(\"A program without \\n\\ta poem \\n\\t\\tis like a fish \\n\\t\\t\\t\\twithout a bicycle.\")"
   ]
  },
  {
   "cell_type": "code",
   "execution_count": 56,
   "metadata": {},
   "outputs": [],
   "source": [
    "# 1.1.3. Joining strings\n",
    "\n",
    "# Print the happy birthday song using your name and the variables below: \n",
    "\n",
    "v1 = \"Happy Birthday\"\n",
    "v2 = \"to you\"\n",
    "v3 = \"dear\"\n",
    "name = ...\n",
    "\n",
    "# Answer\n",
    "\n",
    "\n",
    "# Reviewer comments below here\n",
    "\n",
    "\n"
   ]
  },
  {
   "cell_type": "code",
   "execution_count": 70,
   "metadata": {},
   "outputs": [
    {
     "name": "stdout",
     "output_type": "stream",
     "text": [
      "Happy Birthday to you \n",
      " Happy Birthday to you \n",
      " Happy Birthday dear \n",
      " Bernie Happy Birthday to you \n",
      "\n",
      "Happy Birthday to you\n",
      "Happy Birthday to you\n",
      "Happy Birthday dear Bernie\n",
      "Happy Birthday to you\n",
      "\n",
      "Happy Birthday to you\n",
      "Happy Birthday to you\n",
      "Happy Birthday dear Bernie\n",
      "Happy Birthday to you\n",
      "\n"
     ]
    }
   ],
   "source": [
    "name = \"Bernie\"\n",
    "# Solution 1.\n",
    "print(v1,v2,\"\\n\",v1,v2,\"\\n\",v1,v3,\"\\n\",name,v1,v2,\"\\n\") # Worst\n",
    "\n",
    "# Solution 2. \n",
    "strout = v1 + \" \" + v2 + \"\\n\" + v1 + \" \" + v2 + \"\\n\" + v1 + \" \" + v3 + \" \" + name + \"\\n\" + v1 + \" \" + v2 + \"\\n\" \n",
    "print(strout)\n",
    "\n",
    "# Solution 3\n",
    "print ( \"%(v1)s %(v2)s\\n%(v1)s %(v2)s\\n%(v1)s %(v3)s %(name)s\\n%(v1)s %(v2)s\\n\" % {\"v1\":v1,\"v2\":v2,\"v3\":v3,\"name\":name}          )\n"
   ]
  },
  {
   "cell_type": "markdown",
   "metadata": {},
   "source": [
    "## A Muppet-themed series of questions. \n",
    "\n",
    "The following questions are based around The Muppets. We will be shaping some data and asking some rudimentary questions of that data. "
   ]
  },
  {
   "cell_type": "code",
   "execution_count": 26,
   "metadata": {},
   "outputs": [],
   "source": [
    "# 1.1.4 Replacing values \n",
    "\n",
    "# These data are a mess! They were supposed to be comma separated \n",
    "# Clean up the text so there are commas instead of tabs\n",
    "    \n",
    "MuppetInput = '''\n",
    "Name\tGender\tSpecies\tFirst Appearance\n",
    "Fozzie\tMale\tBear\t1976\n",
    "Kermit\tMale\tFrog\t1955\n",
    "Piggy\tFemale\tPig\t1974\n",
    "Gonzo\tMale\tUnknown\t1970\n",
    "Rowlf\tMale\tDog\t1962\n",
    "Beaker\tMale\tMuppet\t1977\n",
    "Janice\tFemale\tMuppet\t1975\n",
    "Hilda\tFemale\tMuppet\t1976\n",
    "'''\n",
    "\n",
    "MuppetOutput = ..."
   ]
  },
  {
   "cell_type": "code",
   "execution_count": 28,
   "metadata": {},
   "outputs": [
    {
     "name": "stdout",
     "output_type": "stream",
     "text": [
      "\n",
      "Name,Gender,Species,First Appearance\n",
      "Fozzie,Male,Bear,1976\n",
      "Kermit,Male,Frog,1955\n",
      "Piggy,Female,Pig,1974\n",
      "Gonzo,Male,Unknown,1970\n",
      "Rowlf,Male,Dog,1962\n",
      "Beaker,Male,Muppet,1977\n",
      "Janice,Female,Muppet,1975\n",
      "Hilda,Female,Muppet,1976\n",
      "\n"
     ]
    }
   ],
   "source": [
    "#Answer \n",
    "\n",
    "MuppetOutput = MuppetInput.replace(\"\\t\",\",\")"
   ]
  },
  {
   "cell_type": "code",
   "execution_count": 18,
   "metadata": {},
   "outputs": [],
   "source": [
    "# 1.1.5 Splitting strings into lists\n",
    "\n",
    "# Take the text in the previous exercise and split \n",
    "# it so that each line of text is now one element in a list.\n",
    "# Print the number of lines. Is it what you expected? \n",
    "# If not, look for ways to strip the whitespace before you split it. \n",
    "\n",
    "MuppetList = ..."
   ]
  },
  {
   "cell_type": "code",
   "execution_count": 35,
   "metadata": {},
   "outputs": [
    {
     "data": {
      "text/plain": [
       "9"
      ]
     },
     "execution_count": 35,
     "metadata": {},
     "output_type": "execute_result"
    }
   ],
   "source": [
    "# Answer \n",
    "\n",
    "MuppetList = MuppetOutput.strip().split(\"\\n\")\n",
    "len(MuppetList)"
   ]
  },
  {
   "cell_type": "code",
   "execution_count": 32,
   "metadata": {},
   "outputs": [
    {
     "name": "stdout",
     "output_type": "stream",
     "text": [
      "['__class__', '__delattr__', '__dir__', '__doc__', '__eq__', '__format__', '__ge__', '__getattribute__', '__gt__', '__hash__', '__init__', '__init_subclass__', '__le__', '__lt__', '__ne__', '__new__', '__reduce__', '__reduce_ex__', '__repr__', '__setattr__', '__sizeof__', '__str__', '__subclasshook__']\n"
     ]
    }
   ],
   "source": [
    "# 1.1.6 Separating the header from the rest. \n",
    "\n",
    "# Take the list and then split it so that you have two lists\n",
    "# List one is only of length one, it's the header.\n",
    "# The other list is all the rest of the list. \n",
    "# Print the length of the data. It should be 8. \n",
    "MuppetHeader = ...\n",
    "MuppetData = ..."
   ]
  },
  {
   "cell_type": "code",
   "execution_count": 34,
   "metadata": {},
   "outputs": [
    {
     "name": "stdout",
     "output_type": "stream",
     "text": [
      "Name,Gender,Species,First Appearance\n",
      "['Fozzie,Male,Bear,1976', 'Kermit,Male,Frog,1955', 'Piggy,Female,Pig,1974', 'Gonzo,Male,Unknown,1970', 'Rowlf,Male,Dog,1962', 'Beaker,Male,Muppet,1977', 'Janice,Female,Muppet,1975', 'Hilda,Female,Muppet,1976']\n"
     ]
    }
   ],
   "source": [
    "# Answer\n",
    "MuppetHeader = MuppetList[0]\n",
    "MuppetData = MuppetList[1:]\n",
    "print(MuppetHeader)\n",
    "print(MuppetData)"
   ]
  },
  {
   "cell_type": "code",
   "execution_count": 47,
   "metadata": {},
   "outputs": [
    {
     "name": "stdout",
     "output_type": "stream",
     "text": [
      "Ellipsis\n"
     ]
    }
   ],
   "source": [
    "# 1.1.7 Creating a dictionary with Muppet Names as keys: \n",
    "\n",
    "# Part 0. Create an empty dictionary called MuppetDict\n",
    "\n",
    "MuppetDict = ...\n",
    "\n",
    "# Part 1. \n",
    "# Take the first item of MuppetData, split it to that it is now a list with four items\n",
    "# Add this to MuppetDict with the name as the key and the three remaining items as the value.\n",
    "\n",
    "\n",
    "# Part 2. \n",
    "# Do part one for the remaining 7 items. \n",
    "\n",
    "\n"
   ]
  },
  {
   "cell_type": "code",
   "execution_count": 53,
   "metadata": {},
   "outputs": [
    {
     "name": "stdout",
     "output_type": "stream",
     "text": [
      "{'Fozzie': ['Male', 'Bear', '1976'], 'Kermit': ['Male', 'Frog', '1955'], 'Piggy': ['Female', 'Pig', '1974'], 'Gonzo': ['Male', 'Unknown', '1970'], 'Rowlf': ['Male', 'Dog', '1962'], 'Beaker': ['Male', 'Muppet', '1977'], 'Janice': ['Female', 'Muppet', '1975'], 'Hilda': ['Female', 'Muppet', '1976']}\n"
     ]
    }
   ],
   "source": [
    "# This is just because I'm curious as to who might use a for loop and who won't\n",
    "MuppetDict = {}\n",
    "for i in MuppetData:\n",
    "    j = i.split(\",\")\n",
    "    MuppetDict[j[0]] = j[1:]\n",
    "\n",
    "# or\n",
    "MuppetDict = {}\n",
    "ll = MuppetData[0].split(\",\")\n",
    "MuppetDict[ll[0]] = ll[1:]\n",
    "ll = MuppetData[1].split(\",\")\n",
    "MuppetDict[ll[0]] = ll[1:]\n",
    "ll = MuppetData[2].split(\",\")\n",
    "MuppetDict[ll[0]] = ll[1:]\n",
    "ll = MuppetData[3].split(\",\")\n",
    "MuppetDict[ll[0]] = ll[1:]\n",
    "ll = MuppetData[4].split(\",\")\n",
    "MuppetDict[ll[0]] = ll[1:]\n",
    "ll = MuppetData[5].split(\",\")\n",
    "MuppetDict[ll[0]] = ll[1:]\n",
    "ll = MuppetData[6].split(\",\")\n",
    "MuppetDict[ll[0]] = ll[1:]\n",
    "ll = MuppetData[7].split(\",\")\n",
    "MuppetDict[ll[0]] = ll[1:]\n",
    "\n",
    "print(MuppetDict)"
   ]
  },
  {
   "cell_type": "code",
   "execution_count": 46,
   "metadata": {},
   "outputs": [
    {
     "name": "stdout",
     "output_type": "stream",
     "text": [
      "The muppet that appears first alphabetically is Ellipsis and their first appearance was Ellipsis\n"
     ]
    }
   ],
   "source": [
    "# 1.1.8 Sorting\n",
    "\n",
    "# Using MuppetDict and the print statement below and answer the following questions\n",
    "# Which muppet appears first alphabetically by name?\n",
    "# When was that muppet's first appearance? \n",
    "# Hint: remember you can return the keys as a list\n",
    "\n",
    "print(\"The muppet that appears first alphabetically is %s and their first appearance was %s\" % (...,...))"
   ]
  }
 ],
 "metadata": {
  "kernelspec": {
   "display_name": "Python 3",
   "language": "python",
   "name": "python3"
  },
  "language_info": {
   "codemirror_mode": {
    "name": "ipython",
    "version": 3
   },
   "file_extension": ".py",
   "mimetype": "text/x-python",
   "name": "python",
   "nbconvert_exporter": "python",
   "pygments_lexer": "ipython3",
   "version": "3.6.5"
  }
 },
 "nbformat": 4,
 "nbformat_minor": 2
}
