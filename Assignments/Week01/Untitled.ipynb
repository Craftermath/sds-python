{
 "cells": [
  {
   "cell_type": "code",
   "execution_count": null,
   "metadata": {},
   "outputs": [],
   "source": [
    "exampleText = \n",
    "'''\n",
    "The Philosopher's Stone (1997)\n",
    "The Chamber of Secrets (1998)\n",
    "The Prisoner of Azkaban (1999)\n",
    "The Goblet of Fire (2000)\n",
    "The Order of the Phoenix (2003)\n",
    "The Half-Blood Prince (2005)\n",
    "The Deathly Hallows (2007)\n",
    "'''\n"
   ]
  }
 ],
 "metadata": {
  "kernelspec": {
   "display_name": "Python 3",
   "language": "python",
   "name": "python3"
  },
  "language_info": {
   "codemirror_mode": {
    "name": "ipython",
    "version": 3
   },
   "file_extension": ".py",
   "mimetype": "text/x-python",
   "name": "python",
   "nbconvert_exporter": "python",
   "pygments_lexer": "ipython3",
   "version": "3.6.5"
  }
 },
 "nbformat": 4,
 "nbformat_minor": 2
}
