{
 "cells": [
  {
   "cell_type": "markdown",
   "metadata": {},
   "source": [
    "**PySDS Week 02 Day 01 v.1 - Exercise - Manging DataFrames**"
   ]
  },
  {
   "cell_type": "code",
   "execution_count": null,
   "metadata": {},
   "outputs": [],
   "source": [
    "# Recall the small table from week 1. Here it is again. \n",
    "\n",
    "MuppetInput = '''\n",
    "Name\tGender\tSpecies\tFirst Appearance\n",
    "Fozzie\tMale\tBear\t1976\n",
    "Kermit\tMale\tFrog\t1955\n",
    "Piggy\tFemale\tPig\t1974\n",
    "Gonzo\tMale\tUnknown\t1970\n",
    "Rowlf\tMale\tDog\t1962\n",
    "Beaker\tMale\tMuppet\t1977\n",
    "Janice\tFemale\tMuppet\t1975\n",
    "Hilda\tFemale\tMuppet\t1976\n",
    "'''\n",
    "\n",
    "# Step 1. \n",
    "# This time please convert it into a DataFrame \n",
    "\n",
    "# Step 2. Please answer the following questions using the DataFrame:\n",
    "\n",
    "# A. What are the details for Fozzie Bear\n",
    "# - Return these printed in a sentence of the form\n",
    "# - <Name> is a <gender> <species> who first appeared in <date>\n",
    "\n",
    "# B. Who appeared before 1976 (i.e. the year the Muppet Show started).\n",
    "# Return this as a DataFrame. \n",
    "\n",
    "# Step 3 . Adding a row of data\n",
    "# Please add a column for \n",
    "# \"Rizzo\"  a male rat who first appeared in 1980. \n",
    "\n"
   ]
  },
  {
   "cell_type": "code",
   "execution_count": null,
   "metadata": {},
   "outputs": [],
   "source": [
    "# Creating a DataFrame of Muppet show episodes by season.\n",
    "# * Note, there is a fifth season of the muppets which was not included.\n",
    "#   This will be addressed next week.\n",
    "#\n",
    "# Step 1. \n",
    "#\n",
    "# Using the text from the previous week contained within \n",
    "#  muppet_episodes_by_season.zip\n",
    "# unzip the files (that can be done manually), read each one of them\n",
    "# in as a DataFrame, then marge the dataframes to have a single \n",
    "# dataframe. \n",
    "\n",
    "\n",
    "# Step 2. \n",
    "#\n",
    "# Did any of the guest stars appear more than once? \n",
    "# Did every season have the same number of episodes? \n"
   ]
  }
 ],
 "metadata": {
  "kernelspec": {
   "display_name": "Python 3",
   "language": "python",
   "name": "python3"
  },
  "language_info": {
   "codemirror_mode": {
    "name": "ipython",
    "version": 3
   },
   "file_extension": ".py",
   "mimetype": "text/x-python",
   "name": "python",
   "nbconvert_exporter": "python",
   "pygments_lexer": "ipython3",
   "version": "3.6.5"
  }
 },
 "nbformat": 4,
 "nbformat_minor": 2
}
