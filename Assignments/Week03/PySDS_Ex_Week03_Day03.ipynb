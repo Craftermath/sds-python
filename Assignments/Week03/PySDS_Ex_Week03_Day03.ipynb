{
 "cells": [
  {
   "cell_type": "markdown",
   "metadata": {},
   "source": [
    "**PySDS Week 03 Day 03 v.1 - Exercise - Webcrawlers**"
   ]
  },
  {
   "cell_type": "markdown",
   "metadata": {},
   "source": [
    "The students will have to create an 'egonet' for a blog page based on the blog roll links. The notion of an egonet will be introduced in class and demonstrated for Wikipedia. \n",
    "\n",
    "This week will also be an opportunity to discuss recursion, so we will be navigating a comment tree using recursion. "
   ]
  }
 ],
 "metadata": {
  "kernelspec": {
   "display_name": "Python 3",
   "language": "python",
   "name": "python3"
  },
  "language_info": {
   "codemirror_mode": {
    "name": "ipython",
    "version": 3
   },
   "file_extension": ".py",
   "mimetype": "text/x-python",
   "name": "python",
   "nbconvert_exporter": "python",
   "pygments_lexer": "ipython3",
   "version": "3.6.5"
  }
 },
 "nbformat": 4,
 "nbformat_minor": 2
}
