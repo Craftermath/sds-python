{
 "cells": [
  {
   "cell_type": "markdown",
   "metadata": {},
   "source": [
    "**PySDS Week 03 Day 04 v.1 - Exercise - Time Series Analysis on Reddit**"
   ]
  },
  {
   "cell_type": "markdown",
   "metadata": {},
   "source": [
    "It seems to be that on reddit, the top root comment attracts considerably more replies than the other comments. \n",
    "\n",
    "First, how much more? \n",
    "Second, what of the comments are replies to the top comment? \n",
    "Third, Does the share of comments that are replies to the top comment change significantly over time? \n",
    "\n",
    "Drawing upon Gonzalez-Bailon and xx, it should be the case that some subreddits have wide trees with few children, while other subs have very narrow trees with many children. Select two subreddits that shold conform to what Gonzalez-Bailon and xx assert. That is, one should be shallow but wide and the other narrow but deep. \n",
    "\n",
    "\n"
   ]
  },
  {
   "cell_type": "markdown",
   "metadata": {},
   "source": [
    "Below are some code snippets to help you plan your analysis"
   ]
  },
  {
   "cell_type": "code",
   "execution_count": null,
   "metadata": {},
   "outputs": [],
   "source": []
  }
 ],
 "metadata": {
  "kernelspec": {
   "display_name": "Python 3",
   "language": "python",
   "name": "python3"
  },
  "language_info": {
   "codemirror_mode": {
    "name": "ipython",
    "version": 3
   },
   "file_extension": ".py",
   "mimetype": "text/x-python",
   "name": "python",
   "nbconvert_exporter": "python",
   "pygments_lexer": "ipython3",
   "version": "3.6.5"
  }
 },
 "nbformat": 4,
 "nbformat_minor": 2
}
