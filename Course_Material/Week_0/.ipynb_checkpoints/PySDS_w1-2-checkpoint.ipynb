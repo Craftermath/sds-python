{
 "cells": [
  {
   "cell_type": "markdown",
   "metadata": {},
   "source": [
    "**PySDS Week 1 Lecture 2.**"
   ]
  },
  {
   "cell_type": "markdown",
   "metadata": {},
   "source": [
    "# Learning Python: Iterations and control statements\n",
    "\n",
    "# Section 1. For Loops\n",
    "\n",
    "Last time we ended on collections. Often times we want to do something with every element in a collection. To do this we __iterate__ over a collection. To iterate means to start at the beginning of a collection, do something with the first value, then continue until we run out of values. Even though a dictionary is not ordered, it is still iterable, we just don't know the order in which we will iterate. \n",
    "\n",
    "We can imagine iterating over a list and then transforming the values in that list. Imagine you have a list of words and you want to find out the average word length ( $\\bar{x}$, the __arithmetic mean__). You would first sum ( $\\sum$ ) all the words $w$ and then divide this sum by the number of words $n$. In formulae we would say you sum all the elements: \n",
    "\n",
    "$$\\bar{x} = \\frac{1}{n}\\sum_{i=1}^{n} w_i $$\n",
    "\n",
    "In this case, that big E ($\\sum$) means add all the things afterwards in the specified range. The range is specified on the top (in this case $n$ or the number of words). The i = 1 means that we iterate one word after another, rather than skipping a word or taking every third (in which case it would show $i=3$). \n",
    "\n",
    "Now we can translate this into computer code:\n",
    "\n",
    "\n",
    "~~~ python\n",
    "words = [\"apple\",\"banana\",\"chocolate\",\"dumpling\"]\n",
    "\n",
    "word_length_sum = 0\n",
    "\n",
    "for i in words:\n",
    "    word_length_sum += i.length() # notice we use += here. \n",
    "    \n",
    "n = len(words) \n",
    "\n",
    "average_length = word_length_sum / n\n",
    "~~~ \n",
    "\n",
    "Above, the ```for i in words:``` is what defines the loop. It's pretty similar to English. ```i``` is our iterator. We could have named it anything, but traditionally when you don't care what your iterator is called, we use ```i``` for the first loop, ```j``` for an inner loop and ```k``` for a third inner loop. More than three inner loops and you really should rethink your program design. \n",
    "\n",
    "You can notice that ```i``` and ```words``` are variables because they are not given special colors. These colors help us understand which words are system words and which words are user-defined.  This is called __syntax highlighting__. \n",
    "\n",
    "We also use a shortcut above. Recall that in the past we have seen \n",
    "\n",
    "~~~ python \n",
    "result = x + y\n",
    "~~~\n",
    "\n",
    "But if we wanted to add something to an existing variable, like when we add some numbers to a ```total```, we can do this: \n",
    "\n",
    "~~~ python\n",
    "total += y \n",
    "~~~ \n",
    "\n",
    "This is sometimes called __syntactic sugar__ as it is just a way to simplify code. In some languages, there's additional idiom of saying ```x++``` for ```x += 1```. This is where C++ gets its name. Python doesn't have this feature. It's just X += 1 for us. However, later we will see some very clever syntactic sugar in python...all in due course. \n",
    "\n",
    "Below we will practice the concept of a loop and see some of its features. "
   ]
  },
  {
   "cell_type": "code",
   "execution_count": null,
   "metadata": {},
   "outputs": [],
   "source": [
    "# As a matter of style I like to define variables before doing my loops. \n",
    "\n",
    "food_list = [\"apple\",\"banana\",\"chocolate\",\"dumpling\"]\n",
    "word_length_sum = 0\n",
    "n = len(food_list) \n",
    "\n",
    "for i in food_list:\n",
    "    word_length_sum += len(i) \n",
    "\n",
    "average_length = word_length_sum / n\n",
    "print(average_length)"
   ]
  },
  {
   "cell_type": "markdown",
   "metadata": {},
   "source": [
    "## Iterating through a dictionary\n",
    "\n",
    "It's pretty obvious how you iterate through a list. One element after the other. But dictionaries have keys and values. What are you iterating over then? It depends on what you ask of python. Try the default: "
   ]
  },
  {
   "cell_type": "code",
   "execution_count": null,
   "metadata": {},
   "outputs": [],
   "source": [
    "food_dict = {'salmon': 'fish', 'enoki': 'mushroom', 'apple': 'Fruit', 'potato': 'Vegetable'}\n",
    "\n",
    "for something in food_dict:\n",
    "    print(something)\n"
   ]
  },
  {
   "cell_type": "markdown",
   "metadata": {},
   "source": [
    "It appears it printed the keys. Now it seems that we can print the entire item by using ```food_dict.items()``` or the values by using ```food_dict.values()```. Observe: "
   ]
  },
  {
   "cell_type": "code",
   "execution_count": null,
   "metadata": {},
   "outputs": [],
   "source": [
    "food_dict = {'salmon': 'fish', 'enoki': 'mushroom', 'apple': 'Fruit', 'potato': 'Vegetable'}\n",
    "\n",
    "for value in food_dict.values():\n",
    "    print(value)\n",
    "\n",
    "print()\n",
    "\n",
    "for item in food_dict.items():\n",
    "    print(item)"
   ]
  },
  {
   "cell_type": "markdown",
   "metadata": {},
   "source": [
    "### Slight diversion: the tuple\n",
    "\n",
    "Notice how it prints the items as \n",
    "~~~ python \n",
    "('salmon','fish') \n",
    "~~~\n",
    "What is that? Well, it's actually a new kind of collection. A __tuple__. A tuple (I pronounce it like couple) is basically a list except it's immutable and has ```()``` instad of ```[]```. So with a list we could go ```my_list[2] = \"grasshopper\"``` and it would replace the ~~second~~ third element in the list with grasshopper (assuming there's already a third element). With a tuple, you cannot. You can query for the third item in a tuple with ```my_tuple[2]``` but you can't assign a new value. See below (it gives an error).  "
   ]
  },
  {
   "cell_type": "code",
   "execution_count": null,
   "metadata": {},
   "outputs": [],
   "source": [
    "my_list = [\"ant\",\"ladybug\",\"beetle\"]\n",
    "print(my_list[2])\n",
    "my_list[2] = \"grasshopper\"\n",
    "print(my_list[2])\n",
    "\n",
    "my_tuple = (\"ant\",\"ladybug\",\"beetle\")\n",
    "print(my_tuple[2])\n",
    "my_tuple[2] = \"grasshopper\"\n",
    "print(my_tuple[2])"
   ]
  },
  {
   "cell_type": "markdown",
   "metadata": {},
   "source": [
    "One of the nice things about the fact that ```dict.items()``` returns a tuple is that we can actually make use of this in the for loop. Instead of ```for i in dict:``` where i would be (key,value) we can literally go ```for thekey,thevalue in dict``` and then do things with these values directly."
   ]
  },
  {
   "cell_type": "code",
   "execution_count": null,
   "metadata": {},
   "outputs": [],
   "source": [
    "food_dict = {'salmon': 'fish', 'enoki': 'mushroom', 'apple': 'fruit', 'potato': 'vegetable'}\n",
    "\n",
    "for key,value in food_dict.items():\n",
    "    print(key, \"is a\", value)\n",
    "    \n",
    "print()\n",
    "# Reminder: We don't need to use the words 'key' and 'value' \n",
    "for food,foodtype in food_dict.items():\n",
    "    print(food, \"is a\", foodtype)"
   ]
  },
  {
   "cell_type": "markdown",
   "metadata": {},
   "source": [
    "# Second 2. If statements and boolean logic. \n",
    "\n",
    "Boolean logic is very useful and really important to computation. If a language can implement the basics of ```not```, ```and``` and ```or``` it can do pretty much any computation with enough memory and time. We use boolean logic to evaluate the truth of a statement. Then if a statement is true, we will ask the computer to do something. We can also ask it to do something else if the statement is false. \n",
    "\n",
    "In python these are the boolean operators: \n",
    "\n",
    "- ```==``` is used for comparison. Does X equal Y? ```x == y```\n",
    "- ```and``` is used to ask if two things are both true. ```x and y```\n",
    "- ```or``` is used to ask if either thing is true. ```x or y```\n",
    "- ```not``` as well as ```!``` are used for not. \n",
    "- ```>``` is used for left side greater than right side. \n",
    "- ```<``` is used for left side less than right side. "
   ]
  },
  {
   "cell_type": "code",
   "execution_count": null,
   "metadata": {},
   "outputs": [],
   "source": [
    "x = 4\n",
    "y = 5\n",
    "z = 5 \n",
    "\n",
    "print( x == y )\n",
    "print( y == z )\n",
    "print( x == y )\n",
    "print( not (x == y) ) "
   ]
  },
  {
   "cell_type": "markdown",
   "metadata": {},
   "source": [
    "Python does comparisons all over the place. Any time you use one of the operators it will evaluate them. But sometimes you want to use these operators to __control the flow__ of a program. For example, if you get some data and it includes a URL you might want to do something with that URL, whereas if it doesn't contain a URL you might want to do something else. For this we use ```if``` and ```else``` statements."
   ]
  },
  {
   "cell_type": "code",
   "execution_count": null,
   "metadata": {},
   "outputs": [],
   "source": [
    "x = 5 \n",
    "y = 2 \n",
    "z = x + y \n",
    "\n",
    "if z == 7: \n",
    "    print(\"Yes, Z equals 7.\")\n",
    "else:\n",
    "    print(\"My math is not good today.\")"
   ]
  },
  {
   "cell_type": "markdown",
   "metadata": {},
   "source": [
    "You can have nested statements with ```elif``` which is a contraction of ```else if ```."
   ]
  },
  {
   "cell_type": "code",
   "execution_count": null,
   "metadata": {},
   "outputs": [],
   "source": [
    "x = 5 \n",
    "y = 2 \n",
    "z = x + y \n",
    "\n",
    "if z == 10: \n",
    "    print(\"Hmm...should this be? \")\n",
    "elif z == 7:\n",
    "    print(\"Okay, I was worried for a second there.\")\n",
    "else: \n",
    "    print(\"I give up.\")"
   ]
  },
  {
   "cell_type": "markdown",
   "metadata": {},
   "source": [
    "## Important notes on comparisons \n",
    "\n",
    "### Note 1. You can compare strings. \n",
    "String encodings have code points. These are used to evaluate whether one string is greater than another. So you can ask if 'a' > 'b'. The behavior can be a bit unexpected so I would only use this with caution. For example, what's greater than A? a or B? "
   ]
  },
  {
   "cell_type": "code",
   "execution_count": null,
   "metadata": {},
   "outputs": [],
   "source": [
    "# String comparisons \n",
    "print(\"Is a > b?\")\n",
    "print('a' > 'b')\n",
    "\n",
    "print(\"\\nIs A > b?\")\n",
    "print('A' > 'b')\n",
    "\n",
    "print(\"\\nIs a > A?\")\n",
    "print('a' > 'A')"
   ]
  },
  {
   "cell_type": "markdown",
   "metadata": {},
   "source": [
    "### Note 2. Zero is False, One is True and the rest don't evaluate well\n",
    "\n",
    "This is the same for a great deal of programming languages. If a variable is 0 it will return false, but if it is any other value positive value it will return true. Negative numbers evaluate to neither positive nor negative. \n"
   ]
  },
  {
   "cell_type": "code",
   "execution_count": null,
   "metadata": {},
   "outputs": [],
   "source": [
    "print(\"What evalues to 'True'?\")\n",
    "print(\"-1\\t\", -1 == True)\n",
    "print(\"0\\t\",   0 == True)\n",
    "print(\"1\\t\",   1 == True)\n",
    "print(\"2\\t\",   2 == True)\n",
    "\n",
    "\n",
    "print(\"\\nWhat evalues to 'False'?\")\n",
    "\n",
    "print(\"-1\\t\", -1 == False)\n",
    "print(\"0\\t\",   0 == False)\n",
    "print(\"1\\t\",   1 == False)\n",
    "print(\"2\\t\",   2 == False)"
   ]
  },
  {
   "cell_type": "markdown",
   "metadata": {},
   "source": [
    "### Note 3. Not everything that is empty...is False.\n",
    "\n",
    "There are a number of ways of expressing _nothing_ in python. There's the notion of a variable being ```None``` or empty. There's a numeric variable that isn't actullay a number (```nan```, for Not A Number for things that don't compute or are missing), there's the empty string ``` \"\" ``` and I'm sure more. Be extra careful when evaluating these. For example, None is not equal to false, but you could still use it that way sometimes. \n"
   ]
  },
  {
   "cell_type": "code",
   "execution_count": null,
   "metadata": {},
   "outputs": [],
   "source": [
    "import numpy as np # The python numeric package 'numpy'; we will be using this more later.\n",
    "\n",
    "print(np.nan == True)\n",
    "print(np.nan == False)\n",
    "\n",
    "if np.nan: \n",
    "    print(\"Nan is True\")\n",
    "else: \n",
    "    print(\"Nan is False\")\n",
    "\n",
    "print()\n",
    "print(None == True)\n",
    "print(None == False)\n",
    "\n",
    "if None: \n",
    "    print(\"None is True\")\n",
    "else:\n",
    "    print(\"None is False\")\n",
    "\n",
    "print()\n",
    "print(\"\" == True)\n",
    "print(\"\" == False)\n",
    "\n",
    "if \"\": \n",
    "    print(\"Empty quotes are True\")\n",
    "else:\n",
    "    print(\"Empty quotes are False\")\n",
    "\n",
    "print()\n",
    "print(1 == True)\n",
    "print(1 == False)\n",
    "    \n",
    "if 1: \n",
    "    print(\"One is True\")\n",
    "else:\n",
    "    print(\"One is False\")"
   ]
  },
  {
   "cell_type": "markdown",
   "metadata": {},
   "source": [
    "Yeah, it is a bit confusing. This is more to just remind you to be careful. "
   ]
  },
  {
   "cell_type": "markdown",
   "metadata": {},
   "source": [
    "# Section 3. Combining Loops and control statements\n",
    "\n",
    "Often we want to do something under certain conditions. For example, you might loop through a list of email addresses and add the domain name (e.g., gmail.com, yahoo.com, oii.ox.ac.uk, etc..) to a set of domain names if it hasn't appeared before. This means that within each loop you want to include an if statement. \n",
    "\n",
    "Doing this might involve looping through an awful lot of data and you might also want a way to report on progress along  the way. so for example, if you are examining a million email, then to report every 20,000 email just too remind you that the program isn't stuck in a loop. Here we introduce a function called \"enumerate\". This function spits out a number every time you go through a loop. See these two examples below: "
   ]
  },
  {
   "cell_type": "code",
   "execution_count": null,
   "metadata": {},
   "outputs": [],
   "source": [
    "food_list = [\"apple\",\"banana\",\"chocolate\",\"dumpling\"]\n",
    "\n",
    "counter = 0\n",
    "for i in food_list:\n",
    "    print(\"Food number\",counter,\"is\",i)\n",
    "    counter += 1\n",
    "    \n",
    "print()\n",
    "\n",
    "for c,i in enumerate(food_list):\n",
    "    print(\"Food number\",c,\"is\",i)\n"
   ]
  },
  {
   "cell_type": "markdown",
   "metadata": {},
   "source": [
    "# Section 4. List comprehensions\n",
    "\n",
    "The list comprehension is literally my favorite syntactic sugar in python. You will encounter it all over the place in my code and in other people's code, so it is worth understanding it now. It also will help us think about operating on a full list at a time. This is important as we will be doing this a lot with data later on, by for example, transforming a column of data. \n",
    "\n",
    "The list comprehension is very much like a for loop but is very condensed. \n",
    "\n",
    "Here is an example in the traditional way:\n",
    "\n",
    "~~~ python \n",
    "my_list = [\"allspice\",\"basil\",\"cumin\"]\n",
    "\n",
    "new_list = []\n",
    "for i in my_list:\n",
    "    i = i.upper()\n",
    "    new_list.append(i)\n",
    "~~~\n",
    "\n",
    "Now here it is as a list comprehension: \n",
    "\n",
    "~~~ python\n",
    "my_list = [\"allspice\",\"basil\",\"cumin\"]\n",
    "\n",
    "new_list = [i.upper() for i in my_list]  \n",
    "~~~\n",
    "\n",
    "We have condensed it to one line. But it gets better. You can append a control statement at the end, so it will only include that value if if it meets the condition. For example, only do something if the words are of length 5.\n",
    "\n",
    "~~~ python \n",
    "my_list = [\"allspice\",\"basil\",\"cumin\"]\n",
    "\n",
    "new_list = []\n",
    "for i in my_list:\n",
    "    i = i.upper()\n",
    "    if len(i) == 5:\n",
    "        new_list.append(i)\n",
    "~~~\n",
    "\n",
    "Now here is the same outcome using a list comprehension: \n",
    "\n",
    "~~~ python\n",
    "my_list = [\"allspice\",\"basil\",\"cumin\"]\n",
    "\n",
    "new_list = [i.upper() for i in my_list if len(i) == 5]  \n",
    "~~~\n",
    "\n",
    "The second way is much more condensed and yet it still reads in an intelligible way. Try them out below: "
   ]
  },
  {
   "cell_type": "code",
   "execution_count": null,
   "metadata": {},
   "outputs": [],
   "source": [
    "my_list = [\"allspice\",\"basil\",\"cumin\"]\n",
    "\n",
    "new_list = []\n",
    "for i in my_list:\n",
    "    i = i.upper()\n",
    "    if len(i) == 5:\n",
    "        new_list.append(i)\n",
    "\n",
    "print(new_list)\n",
    "my_list = [\"allspice\",\"basil\",\"cumin\"]\n",
    "\n",
    "new_list = [i.upper() for i in my_list if len(i) == 5]  \n",
    "\n",
    "print()\n",
    "print(new_list)\n"
   ]
  },
  {
   "cell_type": "markdown",
   "metadata": {},
   "source": [
    "# Section 5. Building your own functions I \n",
    "\n",
    "The list comprehension can tighten a for loop, but it has the drawback that you can only apply one function to a variable. In the examples above, it was ```.upper()```. What if you wanted to do two things, like square a number and format it as a strong before returning it? Well, this is not exactly a problem - you simply have to __write your own function__ that does both these things and then returns the value that we wanted. \n",
    "\n",
    "Building your own functions is a crucial part of coding. Without functions, you are left with code that is literally just one command after another. With functions you can abstract away the common parts and just send the novel parts to the function as __arguments__. \n",
    "\n",
    "We have already seen a few functions such as ```print()``` and ```len()```. Below is an example of some repetitive code and then is an example of a function that does this repetitive job at once. As I mentioned above, if you are going more than three loops deep (some would say one loop deep) then you're doing it wrong. One of the things you ought to do rather than loops within loops is to call a function. How to do that will become clear as we learn more about these crucial parts of programming. "
   ]
  },
  {
   "cell_type": "code",
   "execution_count": null,
   "metadata": {},
   "outputs": [],
   "source": [
    "x = 5\n",
    "if x %2 == 1: \n",
    "    y = x * 2 \n",
    "else:\n",
    "    y = x\n",
    "\n",
    "x = 8\n",
    "if x % 2 == 1: \n",
    "    y = x * 2\n",
    "else:\n",
    "    y = x \n",
    "    \n",
    "x = 10\n",
    "if x % 2 == 1: \n",
    "    y = x * 2 \n",
    "else:\n",
    "    y = x\n",
    "    \n",
    "    \n",
    "def doubleIfOdd(input):\n",
    "    if input % 2 == 1:\n",
    "        return input * 2\n",
    "    else:\n",
    "        return input\n",
    "\n",
    "x = 6\n",
    "y = doubleIfEven(x) "
   ]
  },
  {
   "cell_type": "markdown",
   "metadata": {},
   "source": [
    "This will serve as a tutorial to functions. It is really, really superficial. Later we will make these functions more complicated but for now, let's stick with the bare minimum. \n",
    "\n",
    "A function is a piece of code with a name, a place for some input, a place for some calculations and a means to return the results of the calculations back to where ever the function was invoked. \n",
    "\n",
    "Imagine I have a function called ```doubleTheNumber``` that literally just takes a number and doubles it.\n",
    "\n",
    "~~~ python\n",
    "x = 5\n",
    "y = doubleTheNumber(x) \n",
    "print(y)\n",
    "> 10\n",
    "~~~\n",
    "\n",
    "Now to build that function we need to do the four things specified above: \n",
    "- Name\n",
    "- Inputs\n",
    "- Calculations\n",
    "- Outputs\n",
    "\n",
    "~~~ python\n",
    "def doubleTheNumber ( input_number): \n",
    "    output_number = input_number * 2\n",
    "    return output_number\n",
    "~~~ \n",
    "\n",
    "This code above has all four things things we wanted. Of course, we could have just taken the input and went ```input * 2``` but that's not how we learn how to use functions. We can do lots of things inside a function. This way we can then call that function inside a list comprehension. In the example abvoe we did not just double the number, but doubled the number if the number was odd. That way all the numbers that get returned are even.\n",
    "\n",
    "Below we will use that function inside of a list comprehension."
   ]
  },
  {
   "cell_type": "code",
   "execution_count": null,
   "metadata": {},
   "outputs": [],
   "source": [
    "def doubleTheNumberIfEven ( input_number ): \n",
    "    if input_number%2==0:\n",
    "        return input_number * 2\n",
    "    else:\n",
    "        return input_number\n",
    "    \n",
    "numbers = [1,4,6,7,9,14,17]\n",
    "\n",
    "new_numbers = [doubleTheNumberIfEven(i) for i in numbers]\n",
    "\n",
    "print(new_numbers)"
   ]
  },
  {
   "cell_type": "markdown",
   "metadata": {},
   "source": [
    "## Important notes on functions \n",
    "Functions are a huge topic. These will not be the last notes you'll need. \n",
    "\n",
    "### Note 1. Variables have a 'scope'. \n",
    "A variable that is created inside of a function is not the same as the one created outside of that function even if they have the same name. This is because the variable inside the function is a __local__ variable. Variables created in jupyter are typically treated as __global__ variables if they are created in a cell but not in a function. To be global means that they can be used anywhere. Local variables are created and destroyed within their local context. You can watch this behavior with a code snippet. "
   ]
  },
  {
   "cell_type": "code",
   "execution_count": 4,
   "metadata": {},
   "outputs": [
    {
     "name": "stdout",
     "output_type": "stream",
     "text": [
      "Before the function 4\n",
      "Inside the function 8\n",
      "After the function 4\n"
     ]
    }
   ],
   "source": [
    "# Local / Global scope example 1: Variable in the function stays in there.\n",
    "\n",
    "x = 4 \n",
    "print( \"Before the function\",x)\n",
    "\n",
    "def multiplyTheValue(input_number):\n",
    "    x = input_number * 2\n",
    "    print(\"Inside the function\",x)\n",
    "    return x \n",
    "\n",
    "output_number = multiplyTheValue(x)\n",
    "\n",
    "print(\"After the function\",x)"
   ]
  },
  {
   "cell_type": "markdown",
   "metadata": {},
   "source": [
    "But ```x``` wasn't the argument, input_number was. So what if we change input number inside the function? "
   ]
  },
  {
   "cell_type": "code",
   "execution_count": 3,
   "metadata": {},
   "outputs": [
    {
     "ename": "NameError",
     "evalue": "name 'input_number' is not defined",
     "output_type": "error",
     "traceback": [
      "\u001b[1;31m---------------------------------------------------------------------------\u001b[0m",
      "\u001b[1;31mNameError\u001b[0m                                 Traceback (most recent call last)",
      "\u001b[1;32m<ipython-input-3-88557f114775>\u001b[0m in \u001b[0;36m<module>\u001b[1;34m()\u001b[0m\n\u001b[0;32m      2\u001b[0m \u001b[1;33m\u001b[0m\u001b[0m\n\u001b[0;32m      3\u001b[0m \u001b[0mx\u001b[0m \u001b[1;33m=\u001b[0m \u001b[1;36m4\u001b[0m\u001b[1;33m\u001b[0m\u001b[0m\n\u001b[1;32m----> 4\u001b[1;33m \u001b[0mprint\u001b[0m\u001b[1;33m(\u001b[0m\u001b[1;34m\"Before the function\"\u001b[0m\u001b[1;33m,\u001b[0m\u001b[0minput_number\u001b[0m\u001b[1;33m)\u001b[0m\u001b[1;33m\u001b[0m\u001b[0m\n\u001b[0m\u001b[0;32m      5\u001b[0m \u001b[1;33m\u001b[0m\u001b[0m\n\u001b[0;32m      6\u001b[0m \u001b[1;32mdef\u001b[0m \u001b[0mmultiplyTheValue\u001b[0m\u001b[1;33m(\u001b[0m\u001b[0minput_number\u001b[0m\u001b[1;33m)\u001b[0m\u001b[1;33m:\u001b[0m\u001b[1;33m\u001b[0m\u001b[0m\n",
      "\u001b[1;31mNameError\u001b[0m: name 'input_number' is not defined"
     ]
    }
   ],
   "source": [
    "# Local / Global scope example 2: Argument sent to function doesn't escape the function.\n",
    "\n",
    "x = 4 \n",
    "print(\"Before the function\",input_number)\n",
    "\n",
    "def multiplyTheValue(input_number):\n",
    "    x = input_number * 2\n",
    "    input_number = 33\n",
    "    print(\"Inside the function\",input_number)\n",
    "    return x \n",
    "\n",
    "output_number = multiplyTheValue(x)\n",
    "\n",
    "print(\"After the function\",input_number)"
   ]
  },
  {
   "cell_type": "markdown",
   "metadata": {},
   "source": [
    "It seems that it is still the case. We changed ```input_number``` to 33 inside the function. Yet, when we print it outside of the function, it throws an error. This is because we created ```input_number``` inside the function, so it isn't available outside the function unless we explicitly make it available (which is often a very bad idea that leads to all sorts of unexpected issues). "
   ]
  },
  {
   "cell_type": "code",
   "execution_count": 5,
   "metadata": {},
   "outputs": [
    {
     "name": "stdout",
     "output_type": "stream",
     "text": [
      "Before the function 4\n",
      "Inside the function 8\n",
      "After the function 8\n"
     ]
    }
   ],
   "source": [
    "# Local / Global scope example 3: Casting a variable as global makes it available outside the function.\n",
    "\n",
    "x = 4\n",
    "print(\"Before the function\",x)\n",
    "\n",
    "def multiplyTheValue(input_number):\n",
    "    global x\n",
    "    x = input_number * 2\n",
    "    \n",
    "    input_number = 33\n",
    "    print(\"Inside the function\",x)\n",
    "    return x \n",
    "\n",
    "output_number = multiplyTheValue(x)\n",
    "\n",
    "print(\"After the function\",x)"
   ]
  },
  {
   "cell_type": "markdown",
   "metadata": {},
   "source": [
    "In this third example, we can see that when we declare x is a global variable inside the function, that value then becomes the value outside of the function. We double ```x``` inside the function and then later when we print x it is no longer 4, it retains the value it had inside the function. "
   ]
  },
  {
   "cell_type": "markdown",
   "metadata": {},
   "source": [
    "### Note 2. There are all kinds of ways of passing data to a function. \n",
    "\n",
    "\n",
    "Functions can take more than one input. Here are some things we can do with inputs: \n",
    "1. Just give it a name. \n",
    "\n",
    "    ~~~ python \n",
    "    def example( just_name):\n",
    "        return just_name\n",
    "\n",
    "    print ( example1(\"some data\") )\n",
    "    ~~~\n",
    "\n",
    "2. Give it a name and a default value.\n",
    "\n",
    "    ~~~ python\n",
    "    def example2( just_name, name_default = True ):\n",
    "        if name_default:\n",
    "               return just_name\n",
    "        return \"Something else\"\n",
    "\n",
    "    print ( example2(\"some data\") )\n",
    "    ~~~\n",
    "\n",
    "3. Leave it ambiguous as a list of values. You'll have to query these in order.\n",
    "\n",
    "    ~~~ python\n",
    "    def example3( just_name, **args):\n",
    "        if len(args) > 0:\n",
    "            for i in args: print(i)\n",
    "\n",
    "    print ( example3(\"some data\",\"Maybe\",\"more data\") )\n",
    "    ~~~\n",
    "\n",
    "4. Leave it ambiguous as a dictionary of variable names and values. You'll have to query these by key.\n",
    "\n",
    "    ~~~ python\n",
    "    def example4( **kwargs):\n",
    "        if len(args) > 0:\n",
    "            for i,j in kwargs: print(i)\n",
    "\n",
    "    print ( example3(var1=\"some data\",var3=\"Maybe\",var2=\"more data\") )\n",
    "    ~~~\n",
    "\n",
    "[This page from ProTech](https://www.protechtraining.com/content/python_fundamentals_tutorial-functions) gives a nice simple overview of these sorts of arguments. Below you can try these out for yourself.\n"
   ]
  },
  {
   "cell_type": "code",
   "execution_count": 18,
   "metadata": {},
   "outputs": [
    {
     "name": "stdout",
     "output_type": "stream",
     "text": [
      "example 1 argument\n"
     ]
    }
   ],
   "source": [
    "# Example 1. Just a single positional argument\n",
    "def example1( just_name):\n",
    "    print( just_name)\n",
    "\n",
    "example1(\"example 1 argument\")"
   ]
  },
  {
   "cell_type": "code",
   "execution_count": 20,
   "metadata": {},
   "outputs": [
    {
     "name": "stdout",
     "output_type": "stream",
     "text": [
      "Are the defaults true?\n"
     ]
    }
   ],
   "source": [
    "# Example 2. A positional argument with a default value\n",
    "def example2( just_name, name_default = True ):\n",
    "    if name_default:\n",
    "        print(just_name)\n",
    "    else:\n",
    "        print(\"name_default was false\")\n",
    "\n",
    "example2(\"Are the defaults true?\")"
   ]
  },
  {
   "cell_type": "code",
   "execution_count": 21,
   "metadata": {},
   "outputs": [
    {
     "name": "stdout",
     "output_type": "stream",
     "text": [
      "Maybe\n",
      "more data\n"
     ]
    }
   ],
   "source": [
    "# Example 3. Postional arguments passed but not defined ahead of time\n",
    "def example3( just_name, *args):\n",
    "    if len(args) > 0:\n",
    "        for i in args: print(i)\n",
    "\n",
    "example3(\"some data\",\"Maybe\",\"more data\")"
   ]
  },
  {
   "cell_type": "code",
   "execution_count": 22,
   "metadata": {},
   "outputs": [
    {
     "name": "stdout",
     "output_type": "stream",
     "text": [
      "var name: var1 \tvalue: some data from var1\n",
      "var name: var3 \tvalue: Maybe it's var3?\n",
      "var name: var2 \tvalue: var2's valuedata\n",
      "{'var1': 'some data from var1', 'var3': \"Maybe it's var3?\", 'var2': \"var2's valuedata\"}\n"
     ]
    }
   ],
   "source": [
    "# Example 4. Keyword arguments passed but not defined ahead of time\n",
    "def example4(**kwargs):\n",
    "    if len(kwargs) > 0:\n",
    "        for i,j in kwargs.items(): print(\"var name:\",i,\"\\tvalue:\",j)\n",
    "\n",
    "example4(var1=\"some data from var1\",var3=\"Maybe it's var3?\",var2=\"var2's valuedata\")"
   ]
  },
  {
   "cell_type": "markdown",
   "metadata": {},
   "source": [
    "### Note 3. A function always returns, but it might be nothing at all.\n",
    "\n",
    "Your function always stops at the return statement. You can have multiple return statements for different conditions (like saying if...return one thing and else...return another). After the return statement, the rest will not be evaluated by the program. But if your statement does not have a return, python will still return ```None``` (which if you remember from above evaluates to ```False```). Just try it for yourself. "
   ]
  },
  {
   "cell_type": "code",
   "execution_count": 24,
   "metadata": {},
   "outputs": [
    {
     "name": "stdout",
     "output_type": "stream",
     "text": [
      "None\n",
      "Oh right, None evaluates to false.\n"
     ]
    }
   ],
   "source": [
    "def noReturn():\n",
    "    pass\n",
    "\n",
    "print( noReturn())\n",
    "\n",
    "if noReturn(): \n",
    "    print(\"Did it work?\")\n",
    "else:\n",
    "    print(\"Oh right, None evaluates to false.\")"
   ]
  }
 ],
 "metadata": {
  "kernelspec": {
   "display_name": "Python 3",
   "language": "python",
   "name": "python3"
  },
  "language_info": {
   "codemirror_mode": {
    "name": "ipython",
    "version": 3
   },
   "file_extension": ".py",
   "mimetype": "text/x-python",
   "name": "python",
   "nbconvert_exporter": "python",
   "pygments_lexer": "ipython3",
   "version": "3.6.4"
  }
 },
 "nbformat": 4,
 "nbformat_minor": 2
}
