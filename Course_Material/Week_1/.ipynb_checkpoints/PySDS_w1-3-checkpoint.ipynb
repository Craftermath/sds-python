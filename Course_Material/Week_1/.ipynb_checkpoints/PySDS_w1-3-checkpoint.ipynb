{
 "cells": [
  {
   "cell_type": "markdown",
   "metadata": {},
   "source": [
    "**PySDS Week 1 Lecture 3.**"
   ]
  },
  {
   "cell_type": "markdown",
   "metadata": {},
   "source": [
    "# Learning Python: The file system"
   ]
  },
  {
   "cell_type": "markdown",
   "metadata": {},
   "source": [
    "Up until now we have only used jupyter notebooks and stayed pretty closely in this environment. But we will need to brance out eventually. This involves learning a number of features about the operating system and how to interface with it. We will also be learning a few new techniques with strings today since these features depended on lists and flow which we have now covered. "
   ]
  },
  {
   "cell_type": "markdown",
   "metadata": {},
   "source": [
    "Windows, Mac, Linux, Chrome or iOS, all computers have an __operating system__. The operating system runs programs, manages memory and allocates computer tasks so that multiple programs can run at the same time. An operating system is what tends to differentiate modern computing from mechanical tasks. The OS is meant to be a general purpose means for accomplishing tasks. \n",
    "\n",
    "Virtually all operating systems operate on __[Von Neumann achirtecture](https://en.wikipedia.org/wiki/Von_Neumann_architecture)__. This means they will have an input device (typically a keyboard but could be any sensor), a proccessor that does calculations, memory (typically fast memory such as RAM and slow memory such as a Hard Drive for more long term storage) and an output device (often, but not necessarily a screen). Other archtectures based on state machines and quantum computing exist but are often experimental and not quite relevant at the moment. \n",
    "\n",
    "Most operating systems these days are either Windows-based or \\*nix-based (i.e., Unix or Linux). Macintosh used to have its own operating system kernel, but has switched roughly 15 years ago to Unix for Mac OS X. There are many differences under the hood between Mac and Linux but for this lecture, we will focus on the many similarities related to file storage. These operating systems store files on a hard drive which can be accessed using the __file path__. \n"
   ]
  },
  {
   "cell_type": "markdown",
   "metadata": {},
   "source": [
    "# Section 1. Navigating the file path with Python and in a terminal \n",
    "\n",
    "Files are stored in hierarchical structures.  The topmost structure would be considered __the root directory__. Under the root directory would be child directories. Even though it can be characterised as a 'tree', we tend to use the terms children and parent. Perhaps think of it more like a family tree, a very peculiar family tree. \n",
    "\n",
    "### Note: File systems are different on \\*Nix and Windows. \n",
    "\n",
    "> Windows was a small operating system back in the day. It wanted to preserve backwards compatibility with earlier systems and it already made use of the __```/```__ character. So it used __```\\```__ instead. Didn't seem like a big deal at a time, but it has certainly become a nuisance for programmers ever since. Along with some other quirks, such as the drives as having letter names, means that we will have to provide a lot of separate instructions for windows and \\*Nix users. \n",
    "\n",
    "Most of the commands that concern the operating system are done using a package of commands, the ```os``` package. Below we are going to import the ```os``` package and explore our file systems. First, by getting the current directory that this notebook is using for file read / write. This is called the __current working directory__. "
   ]
  },
  {
   "cell_type": "code",
   "execution_count": 2,
   "metadata": {},
   "outputs": [
    {
     "name": "stdout",
     "output_type": "stream",
     "text": [
      "C:\\Users\\bernie\\Documents\\Teaching\\SDS\\Course Material\\Week_1\n",
      "\n",
      "The separator on this computer is:  \\\n"
     ]
    }
   ],
   "source": [
    "import os \n",
    "\n",
    "print( os.getcwd() )\n",
    "\n",
    "print()\n",
    "\n",
    "print(\"The separator on this computer is: \", os.sep)"
   ]
  },
  {
   "cell_type": "code",
   "execution_count": 6,
   "metadata": {},
   "outputs": [
    {
     "data": {
      "text/plain": [
       "\u001b[1;31mSignature:\u001b[0m \u001b[0mos\u001b[0m\u001b[1;33m.\u001b[0m\u001b[0mgetcwd\u001b[0m\u001b[1;33m(\u001b[0m\u001b[1;33m)\u001b[0m\u001b[1;33m\u001b[0m\u001b[0m\n",
       "\u001b[1;31mDocstring:\u001b[0m Return a unicode string representing the current working directory.\n",
       "\u001b[1;31mType:\u001b[0m      builtin_function_or_method\n"
      ]
     },
     "metadata": {},
     "output_type": "display_data"
    }
   ],
   "source": [
    "# For more details:\n",
    "?os.getcwd()"
   ]
  },
  {
   "cell_type": "markdown",
   "metadata": {},
   "source": [
    "So notice that on a \\*Nix you will have a forward slash, then probably Users/<yourname>/ and then some directory. As this file should have come down through GitHub hopefully it won't be just in Downloads, but somewhere sensible. \n",
    "    \n",
    "On a windows system it is like to start with a drive letter (usually C:\\ ) followed by \\Users\\<yourname>\\ and then some directories. The slashes on \\*Nix are forward and are backward on windows. For this reason, if you want to make cross platform software, it is good to let python sort out the slashes. This is done with the os.sep command as was seen above.  "
   ]
  },
  {
   "cell_type": "markdown",
   "metadata": {},
   "source": [
    "## How to navigate the file system through a terminal. (*Nix edition)\n",
    "\n",
    "This section will be done in a terminal window, so you'll have to switch back and forth. If I write a command it will be preceded by ```$``` and if I write the expected output, it will be preceded by ```>```. So we will want to open a terminal and type ```ls```. As in don't type the \\$, just:  \n",
    "\n",
    "~~~\n",
    "$ ls\n",
    "~~~\n",
    "\n",
    "### To shorten the prompt \n",
    "So that it's easier to work in, type:\n",
    "~~~\n",
    "$ PS1='\\u:\\W\\$ '\n",
    "~~~\n"
   ]
  },
  {
   "cell_type": "markdown",
   "metadata": {},
   "source": [
    "## How to navigate the file system through Anaconda Prompt. (Windows edition)\n",
    "\n",
    "To note, Windows officially recommends the use of the Windows Powershell. Anaconda doesn't have their Powershell configuration down just yet and I did not want to service a series of complex installs here, so we are using the default Anaconda shell, but in future years this is likely to change. See the [GitHub project](https://github.com/ContinuumIO/anaconda-issues/issues/311) for more info.  \n",
    "\n",
    "This section will be done in an Anaconda shell, so you'll have to switch back and forth to read the instructions. To get there, type in your search bar: \"Anaconda prompt\" and NOT Anaconda Navigator that we usually use. \n",
    "\n",
    "If I write a comman~d it will be preceded by ```$``` and if I write the expected output, it will be preceded by ```>```. So we will want to open a terminal and type ```dir```. As in don't type the \\$:  \n",
    "~~~\n",
    "> dir\n",
    "~~~ \n",
    "\n",
    "That should list all the files in the current working directory _for the shell_. Notice that it is probably not the same directory as the one you saw above. But let's navigate to our current python working directory. To do this we use ```cd <desired directory>```. \n",
    "\n",
    "~~~ \n",
    "> cd C:\\Users\\bernie\\Documents\\Teaching\\SDS\\Course_Material\\Week_1\n",
    "> dir\n",
    "| Volume in drive C is Windows\n",
    "| Volume Serial Number is 440F-52AC\n",
    "|\n",
    "| Directory of C:\\Users\\bernie\\Documents\\Teaching\\SDS\\Course_Material\\Week_1\n",
    "|\n",
    "| 05/09/2018  16:22    <DIR>          .\n",
    "| 05/09/2018  16:22    <DIR>          ..\n",
    "| 05/09/2018  15:21    <DIR>          .ipynb_checkpoints\n",
    "| 04/09/2018  16:02            27,889 PySDS_w1-1.ipynb\n",
    "| 05/09/2018  14:36            32,289 PySDS_w1-2.ipynb\n",
    "| 05/09/2018  16:22             7,808 PySDS_w1-3.ipynb\n",
    "| 05/09/2018  14:44            15,157 PySDS_w1-4.ipynb\n",
    "|               4 File(s)         83,143 bytes\n",
    "|               3 Dir(s)  254,919,348,224 bytes free\n",
    "~~~\n",
    "\n",
    "### To shorten the prompt \n",
    "The prompt might be showing you the very long path to your directory, making it hard to type commands. To shorten it down to just the ```>``` type the follwing at the prompt: \n",
    "~~~\n",
    "> prompt $g\n",
    "~~~\n",
    "\n",
    "### Making a new file\n",
    "\n",
    "You can make a new file here (just the file name) by typing: \n",
    "\n",
    "~~~\n",
    "$ type nul > temp_file.txt\n",
    "~~~\n",
    "\n",
    "### Removing a file.\n",
    "\n",
    "\n",
    "### Making a new directory\n",
    "You can make a new directory by typing mkdir  \n",
    "\n",
    "\n",
    "\n",
    "### Removing a directory\n",
    "\n",
    "\n"
   ]
  },
  {
   "cell_type": "code",
   "execution_count": null,
   "metadata": {},
   "outputs": [],
   "source": []
  },
  {
   "cell_type": "code",
   "execution_count": null,
   "metadata": {},
   "outputs": [],
   "source": []
  },
  {
   "cell_type": "markdown",
   "metadata": {},
   "source": [
    "# Section 2. Creating and removing files with Python"
   ]
  },
  {
   "cell_type": "code",
   "execution_count": null,
   "metadata": {},
   "outputs": [],
   "source": [
    "## Creating files by creating a file 'opener'"
   ]
  },
  {
   "cell_type": "code",
   "execution_count": null,
   "metadata": {},
   "outputs": [],
   "source": [
    "## Closing files \n",
    "\n",
    "\n",
    "### Note: Remember to flush! "
   ]
  },
  {
   "cell_type": "markdown",
   "metadata": {},
   "source": [
    "### Note 2. Be careful. You can actually damage things with python. \n",
    "\n",
    "> The ```os``` package is pretty dangerous as you can literally delete files without question. Python, like most programming languages, will __clobber__ a file name. To clobber means that it will overwrite a file without asking you first. In actuality, the file hasn't disappeared, but the pointer to that file is lost to the operating system. But in practice, especially on encrypted compuuters, that means it's lost once you overwrite it. __Also...encrypt your computer!__ That means FileVault on Mac and BitLocker on Windows. "
   ]
  },
  {
   "cell_type": "code",
   "execution_count": 5,
   "metadata": {},
   "outputs": [
    {
     "data": {
      "text/plain": [
       "\u001b[1;31mSignature:\u001b[0m \u001b[0mos\u001b[0m\u001b[1;33m.\u001b[0m\u001b[0mgetcwd\u001b[0m\u001b[1;33m(\u001b[0m\u001b[1;33m)\u001b[0m\u001b[1;33m\u001b[0m\u001b[0m\n",
       "\u001b[1;31mDocstring:\u001b[0m Return a unicode string representing the current working directory.\n",
       "\u001b[1;31mType:\u001b[0m      builtin_function_or_method\n"
      ]
     },
     "metadata": {},
     "output_type": "display_data"
    }
   ],
   "source": [
    "?os.getcwd()"
   ]
  },
  {
   "cell_type": "markdown",
   "metadata": {},
   "source": [
    "# Section 3. Running python in the shell (and python programs)"
   ]
  },
  {
   "cell_type": "markdown",
   "metadata": {},
   "source": [
    "## Part 1. Running python in the console. \n"
   ]
  },
  {
   "cell_type": "markdown",
   "metadata": {},
   "source": [
    "## Part 2. Creating a python program to run.  "
   ]
  },
  {
   "cell_type": "markdown",
   "metadata": {},
   "source": [
    "## Part 3. Running the python program from the shell. "
   ]
  },
  {
   "cell_type": "markdown",
   "metadata": {},
   "source": [
    "## Part 4. Running the python program with file arguments. "
   ]
  }
 ],
 "metadata": {
  "kernelspec": {
   "display_name": "Python 3",
   "language": "python",
   "name": "python3"
  },
  "language_info": {
   "codemirror_mode": {
    "name": "ipython",
    "version": 3
   },
   "file_extension": ".py",
   "mimetype": "text/x-python",
   "name": "python",
   "nbconvert_exporter": "python",
   "pygments_lexer": "ipython3",
   "version": "3.6.4"
  }
 },
 "nbformat": 4,
 "nbformat_minor": 2
}
