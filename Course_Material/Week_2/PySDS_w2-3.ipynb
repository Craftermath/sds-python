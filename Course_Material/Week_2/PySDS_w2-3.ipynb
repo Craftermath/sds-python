{
 "cells": [
  {
   "cell_type": "markdown",
   "metadata": {},
   "source": [
    "Week 02 Day 03: Data formatting, SQL and more text processing\n",
    "=================\n",
    "\n",
    "Today we will be looking at some further data formatting. We will also be introducing SQL or Structured Query Language. \n",
    "\n",
    "Learning goals: \n",
    "- Understand the use of sql through sqlite. \n",
    "- Parsing Dates \n",
    "- Making use of Map / Apply / Lambda. \n",
    "\n",
    "We will be using some old data related to the 2016 UK election, but it's useful data. "
   ]
  },
  {
   "cell_type": "code",
   "execution_count": 112,
   "metadata": {},
   "outputs": [
    {
     "name": "stdout",
     "output_type": "stream",
     "text": [
      "Populating the interactive namespace from numpy and matplotlib\n"
     ]
    }
   ],
   "source": [
    "from IPython.display import display\n",
    "%pylab inline "
   ]
  },
  {
   "cell_type": "markdown",
   "metadata": {},
   "source": [
    "# Section 1. Using sql databases\n",
    "\n",
    "SQL stands for Structured Query Language. It is a way to store data in relational tables. This is to say tables that follow the row / column format. Each 'database' can store multiple tables. \n",
    "\n",
    "There has been a movement in recent years away from relational databases towards newer forms of data stores, such as GraphDB and MongoDB, as part of the 'noSQL' paradigm. First, that's silly. Seccond, it's a little presumptuous to assume that other data stores can do the trick better. \n",
    "- MongoDB is a store for json-like objects. It's fast, simple and not so powerful except for queuing systems. \n",
    "- Neo4j is a 'graphdb' that stores entries as nodes and edges. It's hard to wrap your head around, but it does make some form of querying relatively straightforward that would otherwise not be the case. \n",
    "\n",
    "Having worked with Mongo, Neo4j and SQL, I can confidently say that SQL has a very prominent place in data stores. Lately, a number of domains have started to return to SQL databases. This is because while the data can be stored in other more flexible formats, ofte formats that mimic the data in other contexts, they are not so amenable to post-processing. \n",
    "\n",
    "Tables in SQL can be **indexed** or not. When they are indexed, using a 'key' it is easier to query and search for data. Keys keep tables organized but are not necessary. A 'primary key' is an index where each entry is unique."
   ]
  },
  {
   "cell_type": "markdown",
   "metadata": {},
   "source": [
    "SQL is structured query language, but not a specific database type. Most SQL is interoperable, but some is specific to the type of database. There are also SQL flavours that are used in APIs but restrict certain kinds of queries. For a while Facebook had FQL which allowed developers to query for data on select tables. This has been deprecated in favour of a graph database structure. Some example databases are:\n",
    "- ```Oracle```. The version in use in many industries. \n",
    "- ```MySQL```. An open source SQL implementation in use in a lot of server applications. It is the M in a 'LAMP stack', which stands for Linux, Apache, MySQL and PHP, which for many was the building block of dynamic webpages. It is being slowly replaced by NodeJS variants such as React, but is still a common way to build and serve dynamic content. \n",
    "- ```PostGRES```. A version that's often used in academia and some other environments. It can be a bit more tricky to set up than MySQL. \n",
    "- ```SQLite```. The only one of these flavours that isn't designed to be interacted with via a server. SQLite databases exist all over your computer, particularly on a mac. This is because you can just read and write to a SQLite database as if it were a file. \n",
    "\n",
    "We can use SQLite through a number of modules. Two popular ones in python are ```sqlalchemy``` and ```sqlite3```. The former is a little more 'pythonic' in that you can interface with the database through objects and methods. SQLite3 is a little more of a wrapper around direct SQL commands. We will use SQLite3 because it is less abstract as well as allowing you to see SQL commands directly. Below we will see how to open and view details about a database. \n",
    "\n"
   ]
  },
  {
   "cell_type": "code",
   "execution_count": 113,
   "metadata": {},
   "outputs": [],
   "source": [
    "import sqlite3 as lite\n",
    "con = lite.connect('example.db')\n",
    "\n",
    "cursor = con.cursor()\n",
    "cursor.execute('''\n",
    "    CREATE TABLE if not exists users(id INTEGER PRIMARY KEY, name TEXT,\n",
    "                       title TEXT, email TEXT unique)\n",
    "''')\n",
    "con.commit()"
   ]
  },
  {
   "cell_type": "markdown",
   "metadata": {},
   "source": [
    "Notice in the above a couple of important notes. \n",
    "- We use id as an integer primary key. This is automatically generated. \n",
    "- email is supposed to be unique, if you try to write two users with the same email it will raise an OperationalError. \n",
    "- We 'commit' changes to the database. Databases have connections and cursors. Cursors get things ready, but we actually operate on the database. So notice that it is ```cursor.execute()``` but ```con.commit()```. "
   ]
  },
  {
   "cell_type": "code",
   "execution_count": 114,
   "metadata": {},
   "outputs": [
    {
     "name": "stdout",
     "output_type": "stream",
     "text": [
      "Are you certain the above values are unique?\n"
     ]
    }
   ],
   "source": [
    "cursor = con.cursor()\n",
    "\n",
    "name1 = 'Joss Wright'\n",
    "title1 = 'Senior Research Fellow'\n",
    "email1 = 'joss.wright@oii.ox.ac.uk'\n",
    " \n",
    "name2 = 'Greg Taylor'\n",
    "title2 = 'Associate Professor, Senior Research Fellow, Director of Graduate Studies'\n",
    "email2 = 'greg.taylor@oii.ox.ac.uk'\n",
    "\n",
    "name3 = 'Taha Yasseri'\n",
    "title3 = 'Senior Research Fellow'\n",
    "email3 = 'taha.yasseri@oii.ox.ac.uk'\n",
    "\n",
    "##################################\n",
    "# Three insert statements in a row\n",
    "try: \n",
    "    # 1. \n",
    "    cursor.execute('''INSERT INTO users(name, title, email)\n",
    "                      VALUES(?,?,?)''', (name1,title1, email1))\n",
    "    print('First user inserted')\n",
    "\n",
    "    # 2.\n",
    "    cursor.execute('''INSERT INTO users(name, title, email)\n",
    "                      VALUES(?,?,?)''', (name2, title2, email2))\n",
    "    print('Second user inserted')\n",
    "\n",
    "    # 3.\n",
    "    cursor.execute('''INSERT INTO users(name, title, email)\n",
    "                      VALUES(?,?,?)''', (name3, title3, email3))\n",
    "    print('Third user inserted')\n",
    "\n",
    "    con.commit()\n",
    "except:\n",
    "    print(\"Are you certain the above values are unique?\")\n",
    "\n",
    "con.close()"
   ]
  },
  {
   "cell_type": "markdown",
   "metadata": {},
   "source": [
    "Now we can import this database into a DataFrame if we want to perform operations in python rather than SQL. We can do this with the pandas.read_sql() command, which will connect to and execute a query on a database in one line. See below:"
   ]
  },
  {
   "cell_type": "code",
   "execution_count": 115,
   "metadata": {},
   "outputs": [
    {
     "data": {
      "text/html": [
       "<div>\n",
       "<style scoped>\n",
       "    .dataframe tbody tr th:only-of-type {\n",
       "        vertical-align: middle;\n",
       "    }\n",
       "\n",
       "    .dataframe tbody tr th {\n",
       "        vertical-align: top;\n",
       "    }\n",
       "\n",
       "    .dataframe thead th {\n",
       "        text-align: right;\n",
       "    }\n",
       "</style>\n",
       "<table border=\"1\" class=\"dataframe\">\n",
       "  <thead>\n",
       "    <tr style=\"text-align: right;\">\n",
       "      <th></th>\n",
       "      <th>id</th>\n",
       "      <th>name</th>\n",
       "      <th>title</th>\n",
       "      <th>email</th>\n",
       "    </tr>\n",
       "  </thead>\n",
       "  <tbody>\n",
       "    <tr>\n",
       "      <th>0</th>\n",
       "      <td>1</td>\n",
       "      <td>Joss Wright</td>\n",
       "      <td>Senior Research Fellow</td>\n",
       "      <td>joss.wright@oii.ox.ac.uk</td>\n",
       "    </tr>\n",
       "    <tr>\n",
       "      <th>1</th>\n",
       "      <td>2</td>\n",
       "      <td>Greg</td>\n",
       "      <td>Associate Professor, Senior Research Fellow, D...</td>\n",
       "      <td>greg.taylor@oii.ox.ac.uk</td>\n",
       "    </tr>\n",
       "    <tr>\n",
       "      <th>2</th>\n",
       "      <td>3</td>\n",
       "      <td>Taha Yasseri</td>\n",
       "      <td>Senior Research Fellow</td>\n",
       "      <td>taha.yasseri@oii.ox.ac.uk</td>\n",
       "    </tr>\n",
       "  </tbody>\n",
       "</table>\n",
       "</div>"
      ],
      "text/plain": [
       "   id          name                                              title  \\\n",
       "0   1   Joss Wright                             Senior Research Fellow   \n",
       "1   2          Greg  Associate Professor, Senior Research Fellow, D...   \n",
       "2   3  Taha Yasseri                             Senior Research Fellow   \n",
       "\n",
       "                       email  \n",
       "0   joss.wright@oii.ox.ac.uk  \n",
       "1   greg.taylor@oii.ox.ac.uk  \n",
       "2  taha.yasseri@oii.ox.ac.uk  "
      ]
     },
     "metadata": {},
     "output_type": "display_data"
    }
   ],
   "source": [
    "import sqlite3\n",
    "import pandas as pd \n",
    "\n",
    "df = pd.read_sql(\"select * from users\",sqlite3.connect(\"example.db\"))\n",
    "display(df.head())"
   ]
  },
  {
   "cell_type": "markdown",
   "metadata": {},
   "source": [
    "The above used ``` 'select * from <table>' ``` to get everything in the table. You can be more specific in SQL in a variety of ways. Some relevant ways: \n",
    "- **Where**: This is a clause at the end of the SQL select statement that works as a filter. So you might \n",
    "    - ```select * from users where users.name == \"Joss Wright\"```\n",
    "- **count(column_name)**: This is an aggregation option to count the instances of rows being selected\n",
    "    - ```select count(name) from users```\n",
    "- **Group By**: This is an aggregation option. This is often used to get the data aggregated in subsets. This option with count is similar to value_counts in pandas. "
   ]
  },
  {
   "cell_type": "code",
   "execution_count": 117,
   "metadata": {},
   "outputs": [
    {
     "data": {
      "text/html": [
       "<div>\n",
       "<style scoped>\n",
       "    .dataframe tbody tr th:only-of-type {\n",
       "        vertical-align: middle;\n",
       "    }\n",
       "\n",
       "    .dataframe tbody tr th {\n",
       "        vertical-align: top;\n",
       "    }\n",
       "\n",
       "    .dataframe thead th {\n",
       "        text-align: right;\n",
       "    }\n",
       "</style>\n",
       "<table border=\"1\" class=\"dataframe\">\n",
       "  <thead>\n",
       "    <tr style=\"text-align: right;\">\n",
       "      <th></th>\n",
       "      <th>id</th>\n",
       "      <th>name</th>\n",
       "      <th>title</th>\n",
       "      <th>email</th>\n",
       "    </tr>\n",
       "  </thead>\n",
       "  <tbody>\n",
       "    <tr>\n",
       "      <th>0</th>\n",
       "      <td>1</td>\n",
       "      <td>Joss Wright</td>\n",
       "      <td>Senior Research Fellow</td>\n",
       "      <td>joss.wright@oii.ox.ac.uk</td>\n",
       "    </tr>\n",
       "  </tbody>\n",
       "</table>\n",
       "</div>"
      ],
      "text/plain": [
       "   id         name                   title                     email\n",
       "0   1  Joss Wright  Senior Research Fellow  joss.wright@oii.ox.ac.uk"
      ]
     },
     "metadata": {},
     "output_type": "display_data"
    }
   ],
   "source": [
    "df = pd.read_sql(\"select * from users where name = 'Joss Wright'\",sqlite3.connect(\"example.db\"))\n",
    "display(df.head())"
   ]
  },
  {
   "cell_type": "code",
   "execution_count": 118,
   "metadata": {},
   "outputs": [
    {
     "data": {
      "text/html": [
       "<div>\n",
       "<style scoped>\n",
       "    .dataframe tbody tr th:only-of-type {\n",
       "        vertical-align: middle;\n",
       "    }\n",
       "\n",
       "    .dataframe tbody tr th {\n",
       "        vertical-align: top;\n",
       "    }\n",
       "\n",
       "    .dataframe thead th {\n",
       "        text-align: right;\n",
       "    }\n",
       "</style>\n",
       "<table border=\"1\" class=\"dataframe\">\n",
       "  <thead>\n",
       "    <tr style=\"text-align: right;\">\n",
       "      <th></th>\n",
       "      <th>count(name)</th>\n",
       "    </tr>\n",
       "  </thead>\n",
       "  <tbody>\n",
       "    <tr>\n",
       "      <th>0</th>\n",
       "      <td>3</td>\n",
       "    </tr>\n",
       "  </tbody>\n",
       "</table>\n",
       "</div>"
      ],
      "text/plain": [
       "   count(name)\n",
       "0            3"
      ]
     },
     "metadata": {},
     "output_type": "display_data"
    }
   ],
   "source": [
    "df = pd.read_sql(\"select count(name) from users\",sqlite3.connect(\"example.db\"))\n",
    "display(df.head())"
   ]
  },
  {
   "cell_type": "code",
   "execution_count": 120,
   "metadata": {},
   "outputs": [
    {
     "data": {
      "text/html": [
       "<div>\n",
       "<style scoped>\n",
       "    .dataframe tbody tr th:only-of-type {\n",
       "        vertical-align: middle;\n",
       "    }\n",
       "\n",
       "    .dataframe tbody tr th {\n",
       "        vertical-align: top;\n",
       "    }\n",
       "\n",
       "    .dataframe thead th {\n",
       "        text-align: right;\n",
       "    }\n",
       "</style>\n",
       "<table border=\"1\" class=\"dataframe\">\n",
       "  <thead>\n",
       "    <tr style=\"text-align: right;\">\n",
       "      <th></th>\n",
       "      <th>Title</th>\n",
       "      <th>Count</th>\n",
       "    </tr>\n",
       "  </thead>\n",
       "  <tbody>\n",
       "    <tr>\n",
       "      <th>0</th>\n",
       "      <td>Associate Professor, Senior Research Fellow, D...</td>\n",
       "      <td>1</td>\n",
       "    </tr>\n",
       "    <tr>\n",
       "      <th>1</th>\n",
       "      <td>Senior Research Fellow</td>\n",
       "      <td>2</td>\n",
       "    </tr>\n",
       "  </tbody>\n",
       "</table>\n",
       "</div>"
      ],
      "text/plain": [
       "                                               Title  Count\n",
       "0  Associate Professor, Senior Research Fellow, D...      1\n",
       "1                             Senior Research Fellow      2"
      ]
     },
     "metadata": {},
     "output_type": "display_data"
    }
   ],
   "source": [
    "df = pd.read_sql(\"select title as Title, count(name) as Count from users group by title\",sqlite3.connect(\"example.db\"))\n",
    "display(df.head())"
   ]
  },
  {
   "cell_type": "markdown",
   "metadata": {},
   "source": [
    "We will not be using SQLite databases that much in the rest of the course (except one small potential module next week), but it is good for you to know them and see them. They will be of considerable use in the later weeks after this course. However, I tend to simply store things in DataFrames, CSVs and pickles these days. The speed difference is unremarkable. "
   ]
  },
  {
   "cell_type": "markdown",
   "metadata": {},
   "source": [
    "# Section 2. Dates and the datetime module \n",
    "\n",
    "Dates have a variety of representations. We think of time in a cyclical sense of years, weeks and months. These have meaning for humans. Computers tend to manage time in terms of seconds since 'epoch', which is when Unix time started on January 1, 1970.  \n",
    "\n",
    "Different representations of time can be handled in Python. This week we will be parsing some time data, next week we will use this to plot some times between posting on a website. \n",
    "\n",
    "There are two important modules for time in python. The ```time``` module which handles differences in time, and the management of time. If you want your program to 'sleep' you can run: \n",
    "~~~ python\n",
    "time.sleep( <number_of_seconds> )\n",
    "~~~\n",
    "\n",
    "There are many useful objects under time, but what we probably want is to take dates and manage them. This is covered under the ```datetime``` module. \n",
    "\n",
    "Below we will see how Twitter sends down the datetime in a tweet object. We then have to parse this date if we want to have it in a form that Twitter can understand."
   ]
  },
  {
   "cell_type": "code",
   "execution_count": 121,
   "metadata": {},
   "outputs": [
    {
     "name": "stdout",
     "output_type": "stream",
     "text": [
      "<class 'str'> Thu Apr 06 15:24:15 +0000 2017\n"
     ]
    }
   ],
   "source": [
    "# Taken from https://developer.twitter.com/en/docs/tweets/data-dictionary/overview/tweet-object.html\n",
    "\n",
    "tweet = {\n",
    " \"created_at\":\"Thu Apr 06 15:24:15 +0000 2017\",\n",
    " \"id\": 850006245121695744,\n",
    " \"id_str\": \"850006245121695744\",\n",
    " \"text\": \"1/ Today we’re sharing our vision for the future of the Twitter API platform!nhttps://t.co/XweGngmxlP\",\n",
    " \"user\": {},  \n",
    " \"entities\": {}\n",
    "}\n",
    "\n",
    "print(type(tweet['created_at']),tweet['created_at'])"
   ]
  },
  {
   "cell_type": "markdown",
   "metadata": {},
   "source": [
    "So we can see that it is a string, when we really want a date. We can see that the date in this tweet object is represented as: \n",
    "~~~json\n",
    "\"created_at\":\"Thu Apr 06 15:24:15 +0000 2017\",\n",
    "~~~\n",
    "which means:\n",
    "~~~\n",
    "Weekday Month Date 24hour:minute:seconds +timezonehours year\n",
    "~~~\n",
    "\n",
    "To parse this as a datetime object we can use datetime.strptime(). This handy module works similar to a regular expression. You enter in various details about the date in a regular format and it parses these and creates a datetime object. \n",
    "\n",
    "Below first is an example. The escape codes to use can be found in the help file (partially), and more extensively at http://strftime.org/ \n",
    "\n",
    "One thing to note is that by default, it assumes english names for dates. You can set a locale flag for other languages. "
   ]
  },
  {
   "cell_type": "code",
   "execution_count": 122,
   "metadata": {},
   "outputs": [
    {
     "name": "stdout",
     "output_type": "stream",
     "text": [
      "<class 'datetime.datetime'> 2017-04-06 15:24:15+00:00\n"
     ]
    }
   ],
   "source": [
    "from datetime import datetime\n",
    "\n",
    "tweetdate = \"Thu Apr 06 15:24:15 +0000 2017\"\n",
    "\n",
    "tweetdateobject = datetime.strptime(tweetdate, '%a %b %d %H:%M:%S %z %Y')\n",
    "print(type(tweetdateobject),tweetdateobject)"
   ]
  },
  {
   "cell_type": "markdown",
   "metadata": {},
   "source": [
    "Once you have date in a datetime object, you can query basic elements about it as well as represent it as a string and do some time calculations on it. For example, we can as for the date, minute, month, etc... we can also represent the date in Unix time, the Bhuddist calendar or shifted by time zone. "
   ]
  },
  {
   "cell_type": "code",
   "execution_count": 123,
   "metadata": {},
   "outputs": [
    {
     "name": "stdout",
     "output_type": "stream",
     "text": [
      "<built-in method date of datetime.datetime object at 0x0000022E45C71AE0>\n",
      "24\n",
      "<class 'datetime.time'>\n"
     ]
    }
   ],
   "source": [
    "tdo = tweetdateobject\n",
    "print(tdo.date)\n",
    "print(tdo.minute)\n",
    "print(type(tdo.time()))"
   ]
  },
  {
   "cell_type": "markdown",
   "metadata": {},
   "source": [
    "A common thing to do with date time is to tell the difference between two times. This difference is referred to as a ```timedelta```. \n",
    "\n",
    "We can compare the difference between the datetime object we just parsed and another using +/- arithmetic. See the example below. In this example we use 'now', by getting the time of now. "
   ]
  },
  {
   "cell_type": "code",
   "execution_count": 124,
   "metadata": {},
   "outputs": [
    {
     "ename": "TypeError",
     "evalue": "can't subtract offset-naive and offset-aware datetimes",
     "output_type": "error",
     "traceback": [
      "\u001b[1;31m---------------------------------------------------------------------------\u001b[0m",
      "\u001b[1;31mTypeError\u001b[0m                                 Traceback (most recent call last)",
      "\u001b[1;32m<ipython-input-124-44e481752d66>\u001b[0m in \u001b[0;36m<module>\u001b[1;34m()\u001b[0m\n\u001b[0;32m      1\u001b[0m \u001b[0mtoday\u001b[0m \u001b[1;33m=\u001b[0m \u001b[0mdatetime\u001b[0m\u001b[1;33m.\u001b[0m\u001b[0mnow\u001b[0m\u001b[1;33m(\u001b[0m\u001b[1;33m)\u001b[0m\u001b[1;33m\u001b[0m\u001b[0m\n\u001b[1;32m----> 2\u001b[1;33m \u001b[0mprint\u001b[0m\u001b[1;33m(\u001b[0m\u001b[0mtoday\u001b[0m \u001b[1;33m-\u001b[0m \u001b[0mtdo\u001b[0m\u001b[1;33m)\u001b[0m\u001b[1;33m\u001b[0m\u001b[0m\n\u001b[0m",
      "\u001b[1;31mTypeError\u001b[0m: can't subtract offset-naive and offset-aware datetimes"
     ]
    }
   ],
   "source": [
    "today = datetime.now()\n",
    "print(today - tdo)"
   ]
  },
  {
   "cell_type": "markdown",
   "metadata": {},
   "source": [
    "Oh! It seems that unlike the above tweet, 'now' is not timezone aware. We can change this and in doing so make the code run. There are two ways. The first is stripping the timezone off of the tweetdateobject. This is not really ideal. The second is addding the same timezone to now, which is UTC. "
   ]
  },
  {
   "cell_type": "code",
   "execution_count": 125,
   "metadata": {},
   "outputs": [
    {
     "name": "stdout",
     "output_type": "stream",
     "text": [
      "559 days, 17:24:13.362426\n",
      "559 days, 16:24:13.362426\n",
      "<class 'datetime.timedelta'>\n"
     ]
    }
   ],
   "source": [
    "from datetime import timezone \n",
    "\n",
    "######################\n",
    "# The not so good way: \n",
    "tdo_zoneless = tdo.replace(tzinfo=None)\n",
    "now = datetime.now()\n",
    "\n",
    "print(now - tdo_zoneless)\n",
    "##########################\n",
    "# The better way. \n",
    "now = datetime.now(timezone.utc)\n",
    "print(now - tdo)\n",
    "print(type(now - tdo))"
   ]
  },
  {
   "cell_type": "markdown",
   "metadata": {},
   "source": [
    "As we can see we got an off-by-one-hour error here. What is that? It's because this course is happening in the UK, which is not running on UTC at the moment. Instead, it is using British Summer Time. As such, we have got an off by one hour error here as the original tweet was coded in UTC and now() is coded in BST. "
   ]
  },
  {
   "cell_type": "markdown",
   "metadata": {},
   "source": [
    "# Secction 3. Cleaing up data - exercises in DataFrames\n",
    "\n",
    "Below we will read in an excel table of data. This is a crowdsourced table of data about political candidates. In it we can see the use of map, but not with lambda, instead we simply map the six different gender terms onto a simplified gender binary*. "
   ]
  },
  {
   "cell_type": "code",
   "execution_count": 93,
   "metadata": {},
   "outputs": [
    {
     "data": {
      "text/html": [
       "<div>\n",
       "<style scoped>\n",
       "    .dataframe tbody tr th:only-of-type {\n",
       "        vertical-align: middle;\n",
       "    }\n",
       "\n",
       "    .dataframe tbody tr th {\n",
       "        vertical-align: top;\n",
       "    }\n",
       "\n",
       "    .dataframe thead th {\n",
       "        text-align: right;\n",
       "    }\n",
       "</style>\n",
       "<table border=\"1\" class=\"dataframe\">\n",
       "  <thead>\n",
       "    <tr style=\"text-align: right;\">\n",
       "      <th></th>\n",
       "      <th>name</th>\n",
       "      <th>id</th>\n",
       "      <th>party</th>\n",
       "      <th>constituency</th>\n",
       "      <th>twitter_username</th>\n",
       "      <th>facebook_page_url</th>\n",
       "      <th>party_ppc_page_url</th>\n",
       "      <th>gender</th>\n",
       "    </tr>\n",
       "  </thead>\n",
       "  <tbody>\n",
       "    <tr>\n",
       "      <th>0</th>\n",
       "      <td>Captain Beany</td>\n",
       "      <td>20</td>\n",
       "      <td>Independent</td>\n",
       "      <td>Aberavon</td>\n",
       "      <td>captainbeany</td>\n",
       "      <td>https://www.facebook.com/VoteCaptainBeany</td>\n",
       "      <td>NaN</td>\n",
       "      <td>male</td>\n",
       "    </tr>\n",
       "    <tr>\n",
       "      <th>1</th>\n",
       "      <td>Peter Bush</td>\n",
       "      <td>6754</td>\n",
       "      <td>UK Independence Party (UKIP)</td>\n",
       "      <td>Aberavon</td>\n",
       "      <td>NaN</td>\n",
       "      <td>https://www.facebook.com/peterbushukip</td>\n",
       "      <td>NaN</td>\n",
       "      <td>male</td>\n",
       "    </tr>\n",
       "    <tr>\n",
       "      <th>2</th>\n",
       "      <td>Helen Ceri Clarke</td>\n",
       "      <td>4561</td>\n",
       "      <td>Liberal Democrats</td>\n",
       "      <td>Aberavon</td>\n",
       "      <td>NaN</td>\n",
       "      <td>NaN</td>\n",
       "      <td>http://www.libdems.org.uk/helen_ceri_clarke</td>\n",
       "      <td>female</td>\n",
       "    </tr>\n",
       "  </tbody>\n",
       "</table>\n",
       "</div>"
      ],
      "text/plain": [
       "                name    id                         party constituency  \\\n",
       "0      Captain Beany    20                   Independent     Aberavon   \n",
       "1         Peter Bush  6754  UK Independence Party (UKIP)     Aberavon   \n",
       "2  Helen Ceri Clarke  4561             Liberal Democrats     Aberavon   \n",
       "\n",
       "  twitter_username                          facebook_page_url  \\\n",
       "0     captainbeany  https://www.facebook.com/VoteCaptainBeany   \n",
       "1              NaN     https://www.facebook.com/peterbushukip   \n",
       "2              NaN                                        NaN   \n",
       "\n",
       "                            party_ppc_page_url  gender  \n",
       "0                                          NaN    male  \n",
       "1                                          NaN    male  \n",
       "2  http://www.libdems.org.uk/helen_ceri_clarke  female  "
      ]
     },
     "metadata": {},
     "output_type": "display_data"
    },
    {
     "name": "stdout",
     "output_type": "stream",
     "text": [
      "['male' 'female' 'Male' 'Female' nan 'Female ' 'Man (sex)']\n"
     ]
    }
   ],
   "source": [
    "import pandas as pd \n",
    "\n",
    "df_pol = pd.read_csv(\"PySDS_PolCandidates.csv\",)\n",
    "display(df_pol.head(3))\n",
    "print(df_pol.gender.unique())"
   ]
  },
  {
   "cell_type": "markdown",
   "metadata": {},
   "source": [
    "Hmm...it seems that there's several different ways for gender to have been entered, in addition to the missing data character. To recode gender, we can map values to a new column. Map can either use a function for each cell or a dictionary. The dictionary would take keys as input and the values as output. So if we have six gender categories, those are the input. If we define two output categories ('male' and '\n",
    "female') then the dictionary would look thus: \n",
    "\n",
    "~~~ python \n",
    "dict_for_map = { \n",
    "    \"male\":0,\n",
    "    \"Male\":0,\n",
    "    \"Man (sex)\":0,\n",
    "    \"female\":1,\n",
    "    \"Female\":1,\n",
    "    \"Female \":1\n",
    "}\n",
    "~~~\n",
    "\n",
    "Then we map this on to the existing series to create a new column with map. See the full implementation below. "
   ]
  },
  {
   "cell_type": "code",
   "execution_count": null,
   "metadata": {},
   "outputs": [],
   "source": [
    "mapper = {\n",
    "    \"male\":0,\n",
    "    \"Male\":0,\n",
    "    \"Man (sex)\":0,\n",
    "    \"female\":1,\n",
    "    \"Female\":1,\n",
    "    \"Female \":1\n",
    "}\n",
    "\n",
    "df_pol[\"bgender\"] = df_pol[\"gender\"].map(mapper)\n",
    "df_pol[\"bgender\"].value_counts(dropna=False)"
   ]
  },
  {
   "cell_type": "markdown",
   "metadata": {},
   "source": [
    "We can now see that there are 2932 candidates who we identified as male and 1035 identified as female."
   ]
  },
  {
   "cell_type": "markdown",
   "metadata": {},
   "source": [
    "Let's make use of this data frame to ask a few questions and then to look at the grouping functions available. First let's ask how many candidates were fielded per party. Then let's ask how many candidates had a twitter handle per party. "
   ]
  },
  {
   "cell_type": "code",
   "execution_count": null,
   "metadata": {},
   "outputs": [],
   "source": [
    "# Series 1. How many pepople per party. \n",
    "partyCount = df_pol[\"party\"].value_counts()\n",
    "print(partyCount.head(10))\n",
    "print()\n",
    "\n",
    "# Series 2. How many people per party have a twitter account\n",
    "haveTwitter = df_pol[\"twitter_username\"].notnull()\n",
    "# print(haveTwitter)\n",
    "partyCountWithTwitter = df_pol[haveTwitter][\"party\"].value_counts()\n",
    "# print(partyCountWithTwitter)\n",
    "print(partyCountWithTwitter.head(10))\n"
   ]
  },
  {
   "cell_type": "markdown",
   "metadata": {},
   "source": [
    "If we wanted to create a new DataFrame with these two series' that is certainly possible. But remember: \n",
    "\n",
    "~~~ python\n",
    "pd.DataFrame([[list1],[list2]]) \n",
    "~~~\n",
    "\n",
    "will create a dataframe of two rows as long as those lists, not two columns, and we want two columns. So we have a couple options. One worth showing is ```zip()```. Zipping lists come from the way that a zipper works by interleaving the teeth so the two lists:\n",
    "\n",
    "~~~\n",
    "l1 = [1,2,3,4]\n",
    "l2 = [a,b,c,d]\n",
    "new_l = zip(l1,l2)\n",
    "~~~\n",
    "becomes\n",
    "~~~\n",
    "[  [1,a], [2,b], [3,c], [4,d]  ]\n",
    "~~~\n",
    "The problem here is that we don't have two lists, we have two series. They might have different lengths and so forth. So we have to create a DataFrame that's the wrong axis and then transpose it. We can do that, just like in numpy arrays. "
   ]
  },
  {
   "cell_type": "code",
   "execution_count": null,
   "metadata": {},
   "outputs": [],
   "source": [
    "df_parties = pd.DataFrame([partyCount,partyCountWithTwitter],index=[\"Party Count\",\"Have Twitter\"])\n",
    "df_parties = df_parties.T\n",
    "display(df_parties.tail(15))"
   ]
  },
  {
   "cell_type": "markdown",
   "metadata": {},
   "source": [
    "What percentage of the party candidates have a twitter account? Now it is simply a matter of divding one by the other. "
   ]
  },
  {
   "cell_type": "code",
   "execution_count": null,
   "metadata": {},
   "outputs": [],
   "source": [
    "df_parties[\"Percent_tweet\"] = \\\n",
    "    df_parties[\"Have Twitter\"] / df_parties[\"Party Count\"]"
   ]
  },
  {
   "cell_type": "code",
   "execution_count": null,
   "metadata": {},
   "outputs": [],
   "source": [
    "%pylab inline\n",
    "df_parties[\"Percent_tweet\"].plot(kind=\"hist\")"
   ]
  },
  {
   "cell_type": "markdown",
   "metadata": {},
   "source": [
    "So what gives with that distribution? It seems pretty skewed to the right. What should we do with that? We can filter the data to get a better look at at."
   ]
  },
  {
   "cell_type": "code",
   "execution_count": null,
   "metadata": {},
   "outputs": [],
   "source": [
    "df_parties[df_parties[\"Percent_tweet\"] < 1][\"Percent_tweet\"].plot(kind=\"hist\")"
   ]
  }
 ],
 "metadata": {
  "kernelspec": {
   "display_name": "Python 3",
   "language": "python",
   "name": "python3"
  },
  "language_info": {
   "codemirror_mode": {
    "name": "ipython",
    "version": 3
   },
   "file_extension": ".py",
   "mimetype": "text/x-python",
   "name": "python",
   "nbconvert_exporter": "python",
   "pygments_lexer": "ipython3",
   "version": "3.6.5"
  }
 },
 "nbformat": 4,
 "nbformat_minor": 2
}
