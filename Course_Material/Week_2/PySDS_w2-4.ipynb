{
 "cells": [
  {
   "cell_type": "markdown",
   "metadata": {},
   "source": [
    "**PySDS Week 2 Lecture 4. V.1 **\n",
    "Last author: B. Hogan"
   ]
  },
  {
   "cell_type": "markdown",
   "metadata": {},
   "source": [
    "Week 2 Day 4. : Merging and grouping data \n",
    "=================\n",
    "\n",
    "This week we are going to focus primarily on exercises where you must integrate different data sources together in a single table for analysis. \n",
    "\n",
    "Learning goals: \n",
    "- Understand merging / sorting\n",
    "- Be able to read and write a table from iPython\n",
    "- Understand one-to-many and many-to-many relationships. \n",
    "- Understanding grouping relationships"
   ]
  },
  {
   "cell_type": "markdown",
   "metadata": {},
   "source": [
    "# Section 1. A review of adding data to a DataFrame\n",
    "\n",
    "First, let's revisit the merging of data through append and concatenate and then move on to key-based merging. \n",
    "\n",
    "First we will create two dataframes based on dictionaries, then we will combine them. We will do this in two ways: \n",
    "1. The same columns (adding rows) \n",
    "2. The same rows (adding columns) \n",
    "\n",
    "## Adding rows \n",
    "When adding data where we have the same columns, it is typically because we have new rows. This happens when we are processing data and want to add rows one at a time as the data comes in. You have seen this already.\n",
    "\n",
    "*Things to remember:* \n",
    "- DataFrames have rows, and each row has an index. \n",
    "- The index can have a user-defined value, but it is assigned in numerical sequence by default. "
   ]
  },
  {
   "cell_type": "code",
   "execution_count": null,
   "metadata": {},
   "outputs": [],
   "source": [
    "from pandas import Series, DataFrame\n",
    "import pandas as pd \n",
    "import numpy as np\n",
    "from IPython.display import display\n",
    "%pylab inline "
   ]
  },
  {
   "cell_type": "code",
   "execution_count": null,
   "metadata": {},
   "outputs": [],
   "source": [
    "\n",
    "testData1 = [[\"a\",\"b\",\"c\",\"d\"],[\"g\",\"h\",\"j\",\"k\"]]\n",
    "testFrame1 = pd.DataFrame(testData1)\n",
    "print(testFrame1)\n",
    "\n",
    "print()\n",
    "\n",
    "testData2 = [[\"m\",\"n\",\"o\",\"p\"],[\"s\",\"t\",\"u\",\"v\"]]\n",
    "testFrame2 = pd.DataFrame(testData2)\n",
    "print(testFrame2)\n",
    "\n",
    "print()\n",
    "\n",
    "testData3 = [[\"x\",\"y\",\"z\",\"aa\",\"bb\",\"cc\"],[\"e\",\"f\",\"q\",\"w\",\"ww\",\"www\"]]\n",
    "testFrame3 = pd.DataFrame(testData3)\n",
    "print(testFrame3)\n",
    "\n",
    "\n"
   ]
  },
  {
   "cell_type": "markdown",
   "metadata": {},
   "source": [
    "### Attempt 1: Adding the frames together ###\n",
    "\n",
    "In the first case, see what happens when we add the frames together. Because they are the same dimension, it literally concatenates within cell. If the cells are not the same size, they will repeat. See the two results below. "
   ]
  },
  {
   "cell_type": "code",
   "execution_count": null,
   "metadata": {},
   "outputs": [],
   "source": [
    "exData01 = testData1 + testData2\n",
    "display(exData01)\n",
    "\n",
    "print()\n",
    "\n",
    "# Notice the difference between adding the lists and adding the frames. \n",
    "exFrame01 = testFrame1 + testFrame2\n",
    "display(exFrame01)\n",
    "\n",
    "print()\n",
    "\n",
    "# Notice now the software does not know what to do adding misshapen frames. \n",
    "exFrame02 = testFrame1 + testFrame3\n",
    "display(exFrame02)"
   ]
  },
  {
   "cell_type": "markdown",
   "metadata": {},
   "source": [
    "### Attempt 2: Concatenating frames ###\n",
    "In the second case, we are going to concatenate the data. The first way we will be doing this is by row. Recall what happens to the indices by default."
   ]
  },
  {
   "cell_type": "code",
   "execution_count": null,
   "metadata": {},
   "outputs": [],
   "source": [
    "testFrame4 = pd.concat(    [testFrame1, testFrame2])\n",
    "testFrame4"
   ]
  },
  {
   "cell_type": "code",
   "execution_count": null,
   "metadata": {},
   "outputs": [],
   "source": [
    "# To really understand the method, it's useful to read the help file. \n",
    "help(pd.concat)"
   ]
  },
  {
   "cell_type": "markdown",
   "metadata": {},
   "source": [
    "Below we fix this using the *ignore_index = True* argument.  \n",
    "\n",
    "Notice also that pd.concat and DataFrame.append accomplish the same thing but are not implemented the same way. Generally concat is faster."
   ]
  },
  {
   "cell_type": "code",
   "execution_count": null,
   "metadata": {},
   "outputs": [],
   "source": [
    "testFrame4 = pd.concat([testFrame1, testFrame2],ignore_index=True)\n",
    "print(testFrame4)\n",
    "\n",
    "print()\n",
    "\n",
    "testFrame4 = testFrame1.append(testFrame2,ignore_index=True)\n",
    "print(testFrame4)"
   ]
  },
  {
   "cell_type": "markdown",
   "metadata": {},
   "source": [
    "Now if we want to add these as **columns rather than rows**, we can use the *axis=1* (as opposed to the default axis=0 argument)\n",
    "\n",
    "Also notice that this is not available as appending."
   ]
  },
  {
   "cell_type": "code",
   "execution_count": null,
   "metadata": {},
   "outputs": [],
   "source": [
    "testFrame4 = pd.concat([testFrame1, testFrame2],axis=1)\n",
    "testFrame4.index = ['top', 'bottom']\n",
    "display(testFrame4)\n",
    "\n",
    "print()"
   ]
  },
  {
   "cell_type": "code",
   "execution_count": null,
   "metadata": {},
   "outputs": [],
   "source": [
    "testFrame4.loc[\"top\",0] = \"test\"\n",
    "display(testFrame4)"
   ]
  },
  {
   "cell_type": "markdown",
   "metadata": {},
   "source": [
    "If we want to preservethat index for some reason, we can actually use a multi-index. This is where there are subindices for the dataframe. This is also relevant when you are grouping data, as the grouped data can have a multi-index. "
   ]
  },
  {
   "cell_type": "code",
   "execution_count": null,
   "metadata": {},
   "outputs": [],
   "source": [
    "testFrame4 = pd.concat([testFrame1, testFrame2],axis=1,keys=[\"left\",\"right\"])\n",
    "testFrame4.index = ['top', 'bottom']\n",
    "display(testFrame4)\n",
    "\n",
    "print()"
   ]
  },
  {
   "cell_type": "code",
   "execution_count": null,
   "metadata": {},
   "outputs": [],
   "source": [
    "print(testFrame4[\"left\",0])\n",
    "print(testFrame4[\"left\",0]['top'])\n",
    "try: \n",
    "    print(testFrame4[\"left\",0,'top'])\n",
    "except KeyError:\n",
    "    print(\"The first bracket is for the index only.\")"
   ]
  },
  {
   "cell_type": "markdown",
   "metadata": {},
   "source": [
    "If we want to **add a single series**, then we have to be careful about \n",
    "how it is structured. Noticed in the following. We can see this being done right and wrong. "
   ]
  },
  {
   "cell_type": "code",
   "execution_count": null,
   "metadata": {},
   "outputs": [],
   "source": [
    "testSeries1 = pd.Series([\"alpha\",\"bravo\",\"charlie\",\"delta\"],name=\"example\")\n",
    "\n",
    "testFrame5 = testFrame1.append(testSeries1)#,ignore_index=True)\n",
    "testFrame5"
   ]
  },
  {
   "cell_type": "code",
   "execution_count": null,
   "metadata": {},
   "outputs": [],
   "source": [
    "testSeries1 = pd.Series({2:\"bravo\",3:\"charlie\",4:\"delta\",1:\"alpha\"},name=\"example\")\n",
    "\n",
    "testFrame5 = testFrame1.append(testSeries1)\n",
    "testFrame5"
   ]
  },
  {
   "cell_type": "code",
   "execution_count": null,
   "metadata": {},
   "outputs": [],
   "source": [
    "# Ooops! It's \"Zero\" indexed\n",
    "\n",
    "testSeries1 = pd.Series({0:\"alpha\",1:\"bravo\",2:\"charlie\",3:\"delta\"},name=\"example\")\n",
    "\n",
    "testFrame5 = testFrame1.append(testSeries1)\n",
    "testFrame5"
   ]
  },
  {
   "cell_type": "markdown",
   "metadata": {},
   "source": [
    "## Adding Columns \n",
    "\n",
    "Each DataFrame has an index and a series of columns. To add names to the index, you can assign a variable to DataFrame.index. To assign names to the columns, you can use DataFrame.columns. These are lists. They cannot be shorter or longer than the actual data frame, otherwise you will receive a ValueError. "
   ]
  },
  {
   "cell_type": "code",
   "execution_count": null,
   "metadata": {},
   "outputs": [],
   "source": [
    "testFrame5.columns = [\"first\",\"second\",\"third\",\"fourth\"]\n",
    "display(testFrame5)\n",
    "\n",
    "print(len(testFrame5.columns))\n",
    "\n",
    "try:\n",
    "    testFrame5.columns = [\"1first\",\"2second\",\"3third\"]\n",
    "    display(testFrame5)\n",
    "except ValueError:\n",
    "    print(\"ValueError: Length mismatch\")\n",
    "    \n",
    "\n",
    "testFrame5.index = [\"first_row\",\"second_row\",\"third_row\"]\n",
    "display(testFrame5)\n",
    "\n",
    "try:\n",
    "    testFrame5.index = [\"first_row\",\"second_row\",\"third_row\",\"fourth_row\"]\n",
    "    display(testFrame5)\n",
    "except ValueError:\n",
    "    print(\"ValueError: Length mismatch\")\n",
    "    \n",
    "\n",
    "    "
   ]
  },
  {
   "cell_type": "markdown",
   "metadata": {},
   "source": [
    "# Section 2. One-to-many relationships\n",
    "\n",
    "One to many relationships are really common in data wrangling. For example, you have people who are in states, and you have state level data on unemployment. How do you create a new table that includes these state-level indicators? This might be useful for a regression (particularly a popular class of regression models called 'hierarchical linear models'). "
   ]
  },
  {
   "cell_type": "code",
   "execution_count": null,
   "metadata": {},
   "outputs": [],
   "source": [
    "d = {\"Wales\":3,\"England\":53,\"Scotland\":5,\"Northern Ireland\":2,\"Jersey\":.1}\n",
    "l = list(zip(d.keys(),d.values()))\n",
    "print(l)\n",
    "\n",
    "countryFrame = pd.DataFrame(l,columns=[\"Country\",\"Population\"])\n",
    "display(countryFrame)\n",
    "\n",
    "countryFrame = pd.DataFrame(pd.Series(d),columns=[\"Population\"])\n",
    "countryFrame"
   ]
  },
  {
   "cell_type": "code",
   "execution_count": null,
   "metadata": {},
   "outputs": [],
   "source": [
    "people = [[\"Alice\",32,\"Wales\"],\n",
    "          [\"Bob\",35,\"Northern Ireland\"],\n",
    "          [\"Charlie\",21,\"England\"],\n",
    "          [\"Diane\",45,\"Northern Ireland\"],\n",
    "          [\"Ellen\",21,\"Scotland\"],\n",
    "          [\"Fong\",50,\"England\"],\n",
    "          [\"Grant\",28,\"Scotland\"],\n",
    "          [\"Harry\",36,\"England\"],\n",
    "          [\"Idris\",40,\"Isle of Wight\"]]\n",
    "\n",
    "peopleFrame = pd.DataFrame(people,columns=[\"Name\",\"Age\",\"Country\"])\n",
    "# help(peopleFrame.merge)\n",
    "display(peopleFrame)"
   ]
  },
  {
   "cell_type": "code",
   "execution_count": null,
   "metadata": {},
   "outputs": [],
   "source": [
    "mergeFrame = peopleFrame.merge(countryFrame,left_on=\"Country\",right_index=True)\n",
    "display(mergeFrame)\n",
    "\n",
    "mergeFrame = countryFrame.merge(peopleFrame,left_index=True,right_on=\"Country\")\n",
    "display(mergeFrame)"
   ]
  },
  {
   "cell_type": "markdown",
   "metadata": {},
   "source": [
    "So. Merging / Joining is hard to get your head around. And it won't necessarily work the first couple times (I went through several iterations in getting the examples to work). But let's give a little overview of ways to join:\n",
    "\n",
    "- Left: Unique rows on the left, mutliple on the right. \n",
    "- Right: Unique rows on the right, multiple on the left.\n",
    "- Inner: The intersection of both frames.\n",
    "- Outer: The union of both frames. \n",
    "\n",
    "Below is a very small crash course in \"Union\" and \"Intersection\". "
   ]
  },
  {
   "cell_type": "code",
   "execution_count": null,
   "metadata": {},
   "outputs": [],
   "source": [
    "setleft = set([1,3,5,7,9])\n",
    "setright = set([1,2,3,4,5])\n",
    "print(\"Union: PRINT ALL THE THINGS!\")\n",
    "print(setleft.union(setright))\n",
    "\n",
    "print(\"\\nIntersection: Here's what we have in common\")\n",
    "print(setleft.intersection(setright))"
   ]
  },
  {
   "cell_type": "markdown",
   "metadata": {},
   "source": [
    "Now let's return to the data we analyzed above and explore what happens when we join in different ways. \n",
    "\n",
    "### Outer Join\n",
    "\n",
    "Notice above we include both Jersey and Isle of Wight, and then get some missing data. Country_y (which we really ought to rename) is missing for Isle of Wight and the individuals are missing for Jersey. It's the union of the keys. "
   ]
  },
  {
   "cell_type": "code",
   "execution_count": null,
   "metadata": {},
   "outputs": [],
   "source": [
    "mergeFrame = peopleFrame.merge(countryFrame,left_on=\"Country\",right_index=True, how='outer')\n",
    "mergeFrame.reset_index(drop=True)"
   ]
  },
  {
   "cell_type": "markdown",
   "metadata": {},
   "source": [
    "### Inner Join\n",
    "\n",
    "Notice in this case, just like with an intersection, we get rid of the keys where there is no match in the other table. So, goodbye Isle of Wight and goodbye Jersey! "
   ]
  },
  {
   "cell_type": "code",
   "execution_count": null,
   "metadata": {},
   "outputs": [],
   "source": [
    "mergeFrame = peopleFrame.merge(countryFrame,left_on=\"Country\",right_index=True, how='inner')\n",
    "display(mergeFrame)"
   ]
  },
  {
   "cell_type": "markdown",
   "metadata": {},
   "source": [
    "### Left Join\n",
    "\n",
    "Notice above that we joined on left (which is \"peopleFrame\"). We could have also done the following, which would have been roughly equivalent (see for yourself!)\n",
    "\n",
    "    pd.merge(peopleFrame,countryFrame,left_on=\"Country\",right_index=True, how='left')\n",
    "\n",
    "    peopleFrame.join(countryFrame,on=\"Country\",how=\"inner\",rsuffix=\"_x\")\n",
    "    \n",
    "I say roughly equivalent, because the join command is actually a little more tidy than merge. Notice that the inner join doesn't have country_x and country_y, but merges those. In the end, no way is particularly \"correct\"."
   ]
  },
  {
   "cell_type": "code",
   "execution_count": null,
   "metadata": {},
   "outputs": [],
   "source": [
    "mergeFrame = peopleFrame.merge(countryFrame,left_on=\"Country\",right_index=True, how='left')\n",
    "mergeFrame"
   ]
  },
  {
   "cell_type": "code",
   "execution_count": null,
   "metadata": {},
   "outputs": [],
   "source": [
    "countryFrame.columns = [\"Country\"]\n",
    "display(countryFrame)"
   ]
  },
  {
   "cell_type": "code",
   "execution_count": null,
   "metadata": {},
   "outputs": [],
   "source": [
    "# countryFrame.columns = [\"Country\"]\n",
    "peopleFrame.join(countryFrame,on=\"Country\",how=\"inner\",rsuffix=\"_rightTable\")"
   ]
  },
  {
   "cell_type": "markdown",
   "metadata": {},
   "source": [
    "### Right Join\n",
    "\n",
    "Pretty much the same as the left join, except it is merging on the right instead of the left. "
   ]
  },
  {
   "cell_type": "code",
   "execution_count": null,
   "metadata": {},
   "outputs": [],
   "source": [
    "mergeFrame = peopleFrame.merge(countryFrame,left_on=\"Country\",right_index=True, how='right')\n",
    "mergeFrame"
   ]
  },
  {
   "cell_type": "markdown",
   "metadata": {},
   "source": [
    "** Multiple columns ** \n",
    "\n",
    "You'll notice that in the above example, countryFrame is really just one column of data. Let's add another column to it, and see what happens to our merging."
   ]
  },
  {
   "cell_type": "code",
   "execution_count": null,
   "metadata": {},
   "outputs": [],
   "source": [
    "countryFrame = pd.DataFrame([[\"Wales\",3,28],\n",
    "                            [\"England\",53,51],\n",
    "                            [\"Scotland\",5,46],\n",
    "                            [\"Northern Ireland\",2,27],\n",
    "                            [\"Jersey\",.1,58]],\n",
    "                            columns=[\"Country\",\"Population\",\"Income\"])\n",
    "display(countryFrame)"
   ]
  },
  {
   "cell_type": "markdown",
   "metadata": {},
   "source": [
    "Now in this case, you'll notice that we no longer have the names of the countries as indices, so we will have to change the way we merge ever so slightly. "
   ]
  },
  {
   "cell_type": "code",
   "execution_count": null,
   "metadata": {},
   "outputs": [],
   "source": [
    "mergeFrame = peopleFrame.merge(countryFrame, on=\"Country\")\n",
    "mergeFrame"
   ]
  },
  {
   "cell_type": "markdown",
   "metadata": {},
   "source": [
    "Section 3. Grouping Data \n",
    "===================\n",
    "\n",
    "Broadcasting Aggregations back to the original data\n",
    "---------------------------\n",
    "\n",
    "Now with these columns imagine that we want to create some variable that is a group-level aggregation of individual level variables. Population and Income are already group-level variables . \n",
    "\n",
    "We can group data together using the \n",
    "\n",
    "    groupby(KEY) \n",
    "    \n",
    "command. First we will group all the data, and then just a subset of it. "
   ]
  },
  {
   "cell_type": "code",
   "execution_count": null,
   "metadata": {},
   "outputs": [],
   "source": [
    "groupFrame = mergeFrame.groupby('Country').sum()\n",
    "display(groupFrame)"
   ]
  },
  {
   "cell_type": "code",
   "execution_count": null,
   "metadata": {},
   "outputs": [],
   "source": [
    "help(mergeFrame.groupby)"
   ]
  },
  {
   "cell_type": "markdown",
   "metadata": {},
   "source": [
    "You'll notice that it adds the prefix \"m\\_\" to all the scalar values and uses all of them. This is alright, but if we want to merge these values back into the original data set, this will be a nuisance since m_Population is the same as Population since both came from the Country table to begin with. So, we can group on a slice of the dataframe. To slice the dataframe we have to query it in the following way. \n",
    "\n",
    "    DATAFRAME[ ['VAR1','VAR2'] ]\n",
    "    \n",
    "Yes, that's a list within a list. See below:    "
   ]
  },
  {
   "cell_type": "code",
   "execution_count": null,
   "metadata": {},
   "outputs": [],
   "source": [
    "mergeFrame[[\"Country\",\"Age\",\"Income\"]]"
   ]
  },
  {
   "cell_type": "code",
   "execution_count": null,
   "metadata": {},
   "outputs": [],
   "source": [
    "groupFrame = mergeFrame[[\"Country\",\"Age\"]].groupby('Country').mean()\n",
    "\n",
    "groupFrame"
   ]
  },
  {
   "cell_type": "markdown",
   "metadata": {},
   "source": [
    "We have just one issue now - if we merge the average age back in, there is already a variable is already called Age. We can rename it before we merge it back in, but it is easier to add a prefix when we do the original grouping:\n",
    "\n",
    "    DATAFRAME.groupby(KEY).add_prefix(\"mean_\")\n",
    "    "
   ]
  },
  {
   "cell_type": "code",
   "execution_count": null,
   "metadata": {},
   "outputs": [],
   "source": [
    "groupFrame = mergeFrame[[\"Country\",\"Age\"]].groupby('Country').mean().add_prefix(\"mean_\")\n",
    "groupFrame"
   ]
  },
  {
   "cell_type": "code",
   "execution_count": null,
   "metadata": {},
   "outputs": [],
   "source": [
    "newFrame = pd.merge(mergeFrame, groupFrame,left_on=\"Country\",right_index=True)\n",
    "display(newFrame)"
   ]
  },
  {
   "cell_type": "markdown",
   "metadata": {},
   "source": [
    "Copying versus addressing\n",
    "-------------------------\n",
    "\n",
    "So, is m_Age part of the mergeFrame table now? No! Part of the way that Pandas works is to only put things in memory unless otherwise stated. See below:\n"
   ]
  },
  {
   "cell_type": "code",
   "execution_count": null,
   "metadata": {},
   "outputs": [],
   "source": [
    "newFrame[\"age_meancentered\"] = newFrame[\"mean_Age\"] - newFrame[\"Age\"]\n",
    "newFrame"
   ]
  },
  {
   "cell_type": "code",
   "execution_count": null,
   "metadata": {},
   "outputs": [],
   "source": [
    "mergeFrame = pd.merge(mergeFrame, groupFrame,left_on=\"Country\",right_index=True)\n",
    "mergeFrame\n",
    "\n",
    "# Ta-dah! "
   ]
  }
 ],
 "metadata": {
  "kernelspec": {
   "display_name": "Python 3",
   "language": "python",
   "name": "python3"
  },
  "language_info": {
   "codemirror_mode": {
    "name": "ipython",
    "version": 3
   },
   "file_extension": ".py",
   "mimetype": "text/x-python",
   "name": "python",
   "nbconvert_exporter": "python",
   "pygments_lexer": "ipython3",
   "version": "3.6.5"
  }
 },
 "nbformat": 4,
 "nbformat_minor": 2
}
